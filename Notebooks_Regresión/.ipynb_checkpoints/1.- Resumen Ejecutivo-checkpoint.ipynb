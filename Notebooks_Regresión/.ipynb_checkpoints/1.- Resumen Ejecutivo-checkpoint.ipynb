{
 "cells": [
  {
   "cell_type": "markdown",
   "metadata": {},
   "source": [
    "\n",
    "<div class=\"jumbotron\">\n",
    "  <h1><i class=\"fa fa-bar-chart\" aria-hidden=\"true\"></i> Resumen Ejecutivo</h1>\n",
    "  <p></p>\n",
    "</div>\n"
   ]
  },
  {
   "cell_type": "markdown",
   "metadata": {},
   "source": [
    "### Objetivo del documento\n",
    "El documento pretende mostrar los requerimientos, alcance y orden en que se debe vizualizar los notebooks de las tares de analítica.\n",
    "\n",
    "- Resumen ejecutivo\n",
    "- Integración y limpieza de datos\n",
    "- Exploración de datos\n",
    "\n",
    "El resto de los notebooks son códigos asociados a tareas de ingeriería de software, procesos operativos y tareas de despliegue de ambietes. Son irrelevantes para comprender los resultados de analítica, sin embargo se documenta en el archivo readme.md del proyecto.\n"
   ]
  },
  {
   "cell_type": "markdown",
   "metadata": {},
   "source": [
    "### Objetivo\n",
    "\n",
    "1. Integracíon de las fuentes de datos\n",
    "2. Análisis exploratorio de datos\n",
    "3. Insigths y respuestas a las preguntas de negocio"
   ]
  },
  {
   "cell_type": "markdown",
   "metadata": {},
   "source": [
    "### Descripción\n",
    "\n",
    "    Agregar descripción ..."
   ]
  },
  {
   "cell_type": "markdown",
   "metadata": {},
   "source": [
    "### Objetivos Estratégicos\n",
    "\n",
    "- Reproducibilidad\n",
    "- Legibilidad de código \n",
    "- Documentación"
   ]
  },
  {
   "cell_type": "markdown",
   "metadata": {},
   "source": [
    "### Alcance\n",
    "\n",
    "- Entendimiento del problema\n",
    "- Preparación de datos\n",
    "- Exploración de datos\n",
    "- Respuestas a las preguntas de negocio\n",
    "- Documentación del proceso de análisis y modelado de datos\n"
   ]
  },
  {
   "cell_type": "markdown",
   "metadata": {},
   "source": [
    "### Tecnologías\n",
    "\n",
    "- Python\n",
    "- Jupyter\n",
    "\n"
   ]
  },
  {
   "cell_type": "markdown",
   "metadata": {},
   "source": [
    "### Fechas \n",
    "\n",
    "- Fecha de entrega:\n"
   ]
  },
  {
   "cell_type": "markdown",
   "metadata": {},
   "source": [
    "### Contexto a alto nivel\n",
    "\n",
    "NA"
   ]
  },
  {
   "cell_type": "markdown",
   "metadata": {},
   "source": [
    "### Metodología\n",
    "\n",
    "\n",
    "Debido al periodo reducido de tiempo utilizaremos el framework reducido de _design thinking_ + _scrum_ + _lean_. El cual al enfocarse a un solución basa en datos se denomina _Data thinking_ .\n",
    "\n",
    "Este framework sólo se utiliza para la la etapa de _design thinking_ y la primera iteración en la cual se construye el prototipo. Es decir el MVP, el cual le confirma el cliente que es viable una solución basada en datos."
   ]
  },
  {
   "cell_type": "markdown",
   "metadata": {},
   "source": [
    "<img src=\"../images/data_thinking_prototipado.png\" alt=\"Drawing\" style=\"width:900px;\"/>"
   ]
  },
  {
   "cell_type": "markdown",
   "metadata": {},
   "source": [
    "### WorkFlow\n",
    "\n",
    "El siguiente flujo es a un alto nivel, y describe el proceso para generar el prototipo de la solución. Para este caso es específico, el alcance es hasta el nivel de exploración de datos."
   ]
  },
  {
   "cell_type": "markdown",
   "metadata": {},
   "source": [
    "<img src=\"../images/work_flow.png\" alt=\"Drawing\" style=\"width:900px;\"/>\n"
   ]
  },
  {
   "cell_type": "markdown",
   "metadata": {},
   "source": [
    "# Planeación"
   ]
  },
  {
   "cell_type": "markdown",
   "metadata": {},
   "source": [
    "NA\n"
   ]
  },
  {
   "cell_type": "code",
   "execution_count": null,
   "metadata": {},
   "outputs": [],
   "source": [
    "### Canvas \n",
    "NA\n"
   ]
  }
 ],
 "metadata": {
  "kernelspec": {
   "display_name": "Python 3 (ipykernel)",
   "language": "python",
   "name": "python3"
  },
  "language_info": {
   "codemirror_mode": {
    "name": "ipython",
    "version": 3
   },
   "file_extension": ".py",
   "mimetype": "text/x-python",
   "name": "python",
   "nbconvert_exporter": "python",
   "pygments_lexer": "ipython3",
   "version": "3.11.4"
  }
 },
 "nbformat": 4,
 "nbformat_minor": 4
}
