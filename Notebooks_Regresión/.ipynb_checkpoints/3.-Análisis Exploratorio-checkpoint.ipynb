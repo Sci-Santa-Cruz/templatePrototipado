{
 "cells": [
  {
   "cell_type": "markdown",
   "id": "28e548df",
   "metadata": {},
   "source": [
    "\n",
    "<div class=\"jumbotron\">\n",
    "  <h1><i class=\"fa fa-bar-chart\" aria-hidden=\"true\"></i> Exploración de datos</h1>\n",
    "  <p></p>\n",
    "</div>"
   ]
  },
  {
   "cell_type": "code",
   "execution_count": 4,
   "id": "d03ecab8-908f-42fa-a1fa-634bb7ae302d",
   "metadata": {},
   "outputs": [],
   "source": [
    "# ! pip install seaborn"
   ]
  },
  {
   "cell_type": "markdown",
   "id": "83511f2b",
   "metadata": {},
   "source": [
    "### Objetivo\n",
    "\n",
    "Comprender a un nivel granular el contenido de los datos y responder las preguntas de negocio planteadas"
   ]
  },
  {
   "cell_type": "code",
   "execution_count": 5,
   "id": "c3a85594",
   "metadata": {},
   "outputs": [],
   "source": [
    "\n",
    "from seaborn import pairplot\n",
    "from seaborn import lmplot\n",
    "from seaborn import countplot\n",
    "from seaborn import set\n",
    "from seaborn import boxplot\n",
    "from seaborn import swarmplot\n",
    "from seaborn import color_palette  # Importar la función color_palette desde Seaborn\n",
    "\n",
    "\n",
    "from matplotlib.pyplot import figure\n",
    "from matplotlib.pyplot import grid\n",
    "from matplotlib.pyplot import ylabel\n",
    "from matplotlib.pyplot import xlabel\n",
    "from matplotlib.pyplot import show, axis , title\n",
    "from matplotlib.pyplot import savefig\n",
    "from matplotlib.pyplot import xticks\n",
    "from sklearn import preprocessing\n",
    "\n",
    "from pandas import read_csv\n",
    "set(style=\"whitegrid\")\n",
    "%matplotlib inline\n"
   ]
  },
  {
   "cell_type": "code",
   "execution_count": 6,
   "id": "2fddb39c",
   "metadata": {},
   "outputs": [],
   "source": [
    "from os import chdir\n",
    "\n",
    "chdir(\"..\")\n"
   ]
  },
  {
   "cell_type": "markdown",
   "id": "939d34bf-4921-4e8a-896c-a80ce9ccd6f3",
   "metadata": {},
   "source": [
    "<div class=\"alert alert-warning\" role=\"alert\">\n",
    "    <lu>\n",
    "    <li> Preguntas a resolver \n",
    "\n",
    "  \n",
    "</div>"
   ]
  },
  {
   "cell_type": "markdown",
   "id": "11ad4b52",
   "metadata": {},
   "source": [
    "#  Cargar datos "
   ]
  },
  {
   "cell_type": "code",
   "execution_count": null,
   "id": "b3c82298",
   "metadata": {},
   "outputs": [],
   "source": [
    "!ls"
   ]
  },
  {
   "cell_type": "code",
   "execution_count": null,
   "id": "33bb50c3",
   "metadata": {},
   "outputs": [],
   "source": [
    "df_ = read_csv('data/interim/df_format.csv')"
   ]
  },
  {
   "cell_type": "code",
   "execution_count": null,
   "id": "df2f5510",
   "metadata": {},
   "outputs": [],
   "source": [
    "# Load data (deserialize)\n",
    "with open('data/interim/....pickle','rb') as handle:\n",
    "    df = pickle.load(handle)\n"
   ]
  },
  {
   "cell_type": "markdown",
   "id": "558e6d07",
   "metadata": {},
   "source": [
    "### Show data"
   ]
  },
  {
   "cell_type": "code",
   "execution_count": null,
   "id": "d1d782db",
   "metadata": {},
   "outputs": [],
   "source": [
    "# df.head(5)"
   ]
  },
  {
   "cell_type": "markdown",
   "id": "fb9a6587",
   "metadata": {},
   "source": [
    "### Resumen de los datos "
   ]
  },
  {
   "cell_type": "code",
   "execution_count": null,
   "id": "8d35226b-855f-499d-942e-3b1a081ffa91",
   "metadata": {},
   "outputs": [],
   "source": [
    "# df.describe()"
   ]
  },
  {
   "cell_type": "markdown",
   "id": "103d7a9a-9968-499c-9d5f-a115f101925a",
   "metadata": {},
   "source": [
    "### Número de muestras"
   ]
  },
  {
   "cell_type": "code",
   "execution_count": null,
   "id": "1f6aec2a-08b9-491d-b854-d512d6c35c04",
   "metadata": {},
   "outputs": [],
   "source": [
    "df.shape"
   ]
  },
  {
   "cell_type": "markdown",
   "id": "59cc85f3-ee41-44d2-bfb2-66591697ecf2",
   "metadata": {},
   "source": [
    "\n",
    "# Fechas"
   ]
  },
  {
   "cell_type": "markdown",
   "id": "a79de869-daff-4e7a-b7d9-c792987c6c70",
   "metadata": {},
   "source": [
    "Verificar que todos los datos pertencescan al rango de fecha establecido"
   ]
  },
  {
   "cell_type": "markdown",
   "id": "07531c22-c645-494a-984d-8ed9efdc6893",
   "metadata": {},
   "source": [
    "### Fecha máxima"
   ]
  },
  {
   "cell_type": "code",
   "execution_count": null,
   "id": "020ae376-386f-49f6-b2c7-daa6d370eeee",
   "metadata": {},
   "outputs": [],
   "source": [
    "max(df['Fecha_Retiro'])"
   ]
  },
  {
   "cell_type": "markdown",
   "id": "827a98fd-8b65-4190-83ac-00950ace79a6",
   "metadata": {},
   "source": [
    "### Fecha mínima"
   ]
  },
  {
   "cell_type": "code",
   "execution_count": null,
   "id": "d27d9a1b-d45f-475b-a3e5-2ad0f6e21dca",
   "metadata": {},
   "outputs": [],
   "source": [
    "min(df['Fecha_Retiro'])"
   ]
  },
  {
   "cell_type": "markdown",
   "id": "e683d970-aa08-4823-990a-3cde92e20bd5",
   "metadata": {},
   "source": [
    "<div class=\"alert alert-info\" role=\"alert\">\n",
    "</div>\n"
   ]
  },
  {
   "cell_type": "markdown",
   "id": "3c563e60-dc55-4fbb-9d09-d9b73619f8bd",
   "metadata": {},
   "source": [
    "### Filtro de rango de fechas"
   ]
  },
  {
   "cell_type": "code",
   "execution_count": null,
   "id": "3c14f4a1-fd19-4493-b63d-2459f51d74fb",
   "metadata": {},
   "outputs": [],
   "source": [
    "# df[(df[''] >= \"2021-08-01\") & (df[''] <= \"2021-10-30\")].shape"
   ]
  },
  {
   "cell_type": "code",
   "execution_count": null,
   "id": "3a544eb3-1fb8-4a39-8be5-9f74768c7f15",
   "metadata": {},
   "outputs": [],
   "source": [
    "#df = df[(df[''] >= \"2021-08-01\") & (df[''] <= \"2021-10-30\")]"
   ]
  },
  {
   "cell_type": "markdown",
   "id": "71cebc40",
   "metadata": {},
   "source": [
    "<div class=\"alert alert-info\" role=\"alert\">\n",
    "- Se eliminaron __ muestras fuera del rango de fecha establecido\n",
    "</div>\n"
   ]
  },
  {
   "cell_type": "markdown",
   "id": "b946651a",
   "metadata": {},
   "source": [
    "### Explorar rangos y segmentación de las variables "
   ]
  },
  {
   "cell_type": "code",
   "execution_count": null,
   "id": "3159c240",
   "metadata": {},
   "outputs": [],
   "source": []
  },
  {
   "cell_type": "markdown",
   "id": "c2d8f352",
   "metadata": {},
   "source": [
    "### Distribución de los datos"
   ]
  },
  {
   "cell_type": "code",
   "execution_count": null,
   "id": "37368d8e",
   "metadata": {},
   "outputs": [],
   "source": []
  },
  {
   "cell_type": "markdown",
   "id": "c3eed7a0",
   "metadata": {},
   "source": [
    "### Gráficos de dispersión por pares"
   ]
  },
  {
   "cell_type": "code",
   "execution_count": null,
   "id": "1ecd683a",
   "metadata": {},
   "outputs": [],
   "source": [
    "# pairplot(df, hue='', palette= \"Spectral\",diag_kind=\"kde\")"
   ]
  },
  {
   "cell_type": "code",
   "execution_count": null,
   "id": "78566576",
   "metadata": {},
   "outputs": [],
   "source": [
    "# Gráficas de dispersión de la variable 1 vs 1\n",
    "# pairplot(df, vars=[\"\", \"\"], hue=\"Survived\")"
   ]
  },
  {
   "cell_type": "markdown",
   "id": "9c4633e7",
   "metadata": {},
   "source": [
    "### Gráficos de dispersión de variables categóricas"
   ]
  },
  {
   "cell_type": "code",
   "execution_count": null,
   "id": "77ccb462",
   "metadata": {},
   "outputs": [],
   "source": [
    "# Crear un swarmplot para visualizar la distribución de edades por clase de pasajero\n",
    "set(style=\"whitegrid\")\n",
    "figure(figsize=(10, 6))  # Ajustar el tamaño de la figura\n",
    "\n",
    "#swarmplot(x='Pclass', y='Age', data=df, palette='Set2')\n",
    "swarmplot(x='', y='', data=df, palette='Set2')\n",
    "\n",
    "# Personalizar el gráfico\n",
    "title(\"...\")\n",
    "xlabel(\"..\")\n",
    "ylabel(\"..\")\n",
    "xticks(rotation=90)  # Rotar las etiquetas del eje x para mayor claridad"
   ]
  },
  {
   "cell_type": "markdown",
   "id": "632ec7c7",
   "metadata": {},
   "source": [
    "### Gráfica de barras "
   ]
  },
  {
   "cell_type": "code",
   "execution_count": null,
   "id": "523f0117",
   "metadata": {},
   "outputs": [],
   "source": [
    "# df_tmp = pd.DataFrame(df.groupby('')[''].count())"
   ]
  },
  {
   "cell_type": "code",
   "execution_count": null,
   "id": "ccd83126",
   "metadata": {},
   "outputs": [],
   "source": [
    "# df.groupby('')[''].count().plot(kind = 'bar', legend = 'Reverse',figsize=(16,9))"
   ]
  },
  {
   "cell_type": "markdown",
   "id": "e6334f64",
   "metadata": {},
   "source": [
    "### Gráfica de bigotes"
   ]
  },
  {
   "cell_type": "code",
   "execution_count": null,
   "id": "fd16aad2",
   "metadata": {},
   "outputs": [],
   "source": [
    "# utilizando min-max scaler\n",
    "\"\"\"\n",
    "ax = boxplot( data=df)\n",
    "\n",
    "\n",
    "fig = plt.figure(num = None, figsize = (8, 6), dpi = 90, facecolor = 'w', edgecolor = 'k')\n",
    "\n",
    "x = df[''].values #returns a numpy array\n",
    "x = x.reshape(-1, 1)\n",
    "min_max_scaler = preprocessing.MinMaxScaler()\n",
    "x_scaled = min_max_scaler.fit_transform(x)\n",
    "df_min_max = pd.DataFrame(x_scaled)\n",
    "ax = sns.boxplot(data=df_min_max)\n",
    "\n",
    "# Sin normalizar datos\n",
    "fig = plt.figure(num = None, figsize = (8, 6), dpi = 90, facecolor = 'w', edgecolor = 'k')\n",
    "plt.grid(True)\n",
    "sns.set(style='darkgrid')\n",
    "ax = sns.boxplot(x=\"Edad_Usuario\", data=df)\n",
    "\n",
    "# Segmentar por etiqueta de clase\n",
    "fig = figure(num = None, figsize = (8, 6), dpi = 300, facecolor = 'w', edgecolor = 'k')\n",
    "grid(True)\n",
    "set(style='darkgrid')\n",
    "ax = boxplot(x=\"Survived\", y=\"Age\", data=df)\n",
    "\"\"\""
   ]
  },
  {
   "cell_type": "markdown",
   "id": "73cc84fc",
   "metadata": {},
   "source": [
    "### Gráfico de donas"
   ]
  },
  {
   "cell_type": "code",
   "execution_count": null,
   "id": "88bcac65",
   "metadata": {},
   "outputs": [],
   "source": [
    "\"\"\"\n",
    "# Crear una figura con propiedades personalizadas\n",
    "fig = figure(num=None, figsize=(8, 6), dpi=300, facecolor='w', edgecolor='k')\n",
    "\n",
    "# Habilitar la cuadrícula en el gráfico\n",
    "grid(True)\n",
    "\n",
    "# Definir etiquetas y colores para las porciones del gráfico circular\n",
    "labels = ['', '']\n",
    "\n",
    "explode = linspace(0, 0.01, 2)  # Controla la explosión de las porciones\n",
    "\n",
    "colors = color_palette('pastel')[0:2]  # Paleta de colores personalizada\n",
    "\n",
    "\n",
    "# Contar las ocurrencias de sobrevivientes y no sobrevivientes\n",
    "count_class = DataFrame(df.groupby([''])[''].count())\n",
    "\n",
    "# Ordenar los valores en orden descendente\n",
    "df_ = count_class[''].sort_values(ascending=False)\n",
    "\n",
    "# Crear un gráfico de tipo pie chart\n",
    "df_.plot.pie(legend=False, labels=labels, subplots=True, autopct='%.2f%%', colors=colors, startangle=20, explode=explode)\n",
    "\n",
    "# Ajustar el gráfico\n",
    "ylabel('')  # Eliminar etiqueta del eje y\n",
    "axis('equal')  # Aspecto igualitario para un círculo\n",
    "title('Porcentaje de ...', weight='bold', fontsize=12)\n",
    "\"\"\"\n",
    "h=0\n"
   ]
  },
  {
   "cell_type": "markdown",
   "id": "132b7efa",
   "metadata": {},
   "source": [
    "### Gráficas de tendencias"
   ]
  },
  {
   "cell_type": "code",
   "execution_count": null,
   "id": "cca33ab0",
   "metadata": {},
   "outputs": [],
   "source": [
    "# fig, axes = plt.subplots(nrows=2, ncols=2,figsize=(9, 9))\n",
    "# axe = axes.ravel()\n",
    "# df_tem.plot(x ='', y='', kind = 'line',ax=axe.flat[index])\n",
    "# plt.xlabel(\"\")\n",
    "# plt.ylabel(\"\")"
   ]
  },
  {
   "cell_type": "markdown",
   "id": "8d691774",
   "metadata": {},
   "source": [
    "### Mapa de correlación "
   ]
  },
  {
   "cell_type": "code",
   "execution_count": null,
   "id": "39f4a730",
   "metadata": {},
   "outputs": [],
   "source": [
    "# Calcular la matriz de correlación\n",
    "matriz_de_correlacion = df.corr()\n",
    "\n",
    "# Crear un mapa de calor de la matriz de correlación\n",
    "plt.figure(figsize=(10, 8))\n",
    "sns.heatmap(matriz_de_correlacion, annot=True, cmap='coolwarm', linewidths=.5)\n",
    "plt.show()"
   ]
  },
  {
   "cell_type": "markdown",
   "id": "bc7053f8",
   "metadata": {},
   "source": [
    "### Correlación entre las variables categóricas"
   ]
  },
  {
   "cell_type": "code",
   "execution_count": null,
   "id": "d9ede04a",
   "metadata": {},
   "outputs": [],
   "source": []
  },
  {
   "cell_type": "markdown",
   "id": "f3ad8c6a",
   "metadata": {},
   "source": [
    "### Correlacción de las variables con el target"
   ]
  },
  {
   "cell_type": "code",
   "execution_count": null,
   "id": "52fd08ae",
   "metadata": {},
   "outputs": [],
   "source": [
    "correlacion_con_target = df.corr()['target_variable']"
   ]
  },
  {
   "cell_type": "markdown",
   "id": "45835236",
   "metadata": {},
   "source": [
    "### Indices de sesgo y asimetría"
   ]
  },
  {
   "cell_type": "code",
   "execution_count": null,
   "id": "9dc4dd74",
   "metadata": {},
   "outputs": [],
   "source": [
    "# sesgo = df['variable'].skew()\n",
    "# asimetria = df['variable'].kurtosis()"
   ]
  },
  {
   "cell_type": "markdown",
   "id": "af4e892f-2a38-4503-8f89-fbaa759cfe0e",
   "metadata": {},
   "source": [
    "\n",
    "**Kurtosis:**\n",
    "La kurtosis mide la concentración de datos en la cola de una distribución en relación con la concentración en la región central de la distribución.\n",
    "\n",
    "- La kurtosis puede ser positiva (leptocúrtica) o negativa (platikúrtica).\n",
    "- Una kurtosis positiva indica que hay más datos en las colas y menos en la región central en comparación con una distribución normal. Esto sugiere que la distribución tiene colas pesadas y picos altos.\n",
    "- Una kurtosis negativa indica que hay menos datos en las colas y más en la región central en comparación con una distribución normal. Esto sugiere que la distribución tiene colas ligeras y picos bajos.\n",
    "- Una kurtosis de cero (mesocúrtica) indica que la distribución tiene una forma similar a la de una distribución normal."
   ]
  },
  {
   "cell_type": "markdown",
   "id": "8ab67d60-df7f-4bfc-895e-d314828776e6",
   "metadata": {},
   "source": [
    "**Asimetría (Skewness):**\n",
    "\n",
    "La asimetría mide la falta de simetría en la distribución de datos. Puede ser positiva, negativa o cero.\n",
    "\n",
    "- Una asimetría positiva indica que la cola derecha de la distribución es más larga o pesada que la cola izquierda, lo que significa que hay valores atípicos o extremos en el lado derecho de la distribución.\n",
    "- Una asimetría negativa indica lo contrario: la cola izquierda es más larga o pesada que la cola derecha, lo que significa que hay valores atípicos o extremos en el lado izquierdo de la distribución.\n",
    "- Una asimetría de cero indica que la distribución es perfectamente simétrica alrededor de la media."
   ]
  },
  {
   "cell_type": "markdown",
   "id": "22db2188",
   "metadata": {},
   "source": [
    "### indice de normalidad"
   ]
  },
  {
   "cell_type": "code",
   "execution_count": null,
   "id": "5ad601a3",
   "metadata": {},
   "outputs": [],
   "source": [
    "from scipy.stats import shapiro\n",
    "\n",
    "# _, p_valor = shapiro(df[''])\n",
    "# if p_valor > 0.05:\n",
    "#     print(\"La variable sigue una distribución normal\")\n",
    "# else:\n",
    "#    print(\"La variable no sigue una distribución normal\")"
   ]
  },
  {
   "cell_type": "markdown",
   "id": "f1a37fb9",
   "metadata": {},
   "source": [
    "### Target"
   ]
  },
  {
   "cell_type": "code",
   "execution_count": null,
   "id": "b25b5751",
   "metadata": {},
   "outputs": [],
   "source": []
  },
  {
   "cell_type": "markdown",
   "id": "f4080d72",
   "metadata": {},
   "source": [
    "### Store data "
   ]
  },
  {
   "cell_type": "code",
   "execution_count": null,
   "id": "ca8123a1",
   "metadata": {},
   "outputs": [],
   "source": [
    "with open('../Data/data_processing.pickle', 'wb') as handle:\n",
    "    dump(df, handle)"
   ]
  }
 ],
 "metadata": {
  "kernelspec": {
   "display_name": "Python 3 (ipykernel)",
   "language": "python",
   "name": "python3"
  },
  "language_info": {
   "codemirror_mode": {
    "name": "ipython",
    "version": 3
   },
   "file_extension": ".py",
   "mimetype": "text/x-python",
   "name": "python",
   "nbconvert_exporter": "python",
   "pygments_lexer": "ipython3",
   "version": "3.10.12"
  }
 },
 "nbformat": 4,
 "nbformat_minor": 5
}
