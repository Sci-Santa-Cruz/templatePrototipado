{
 "cells": [
  {
   "cell_type": "markdown",
   "id": "48f9c155",
   "metadata": {},
   "source": [
    "<div class=\"jumbotron\">\n",
    "  <h1><i class=\"fa fa-bar-chart\" aria-hidden=\"true\"></i>Inegeniría de características y trasnformaciones</h1>\n",
    "  <p></p>\n",
    "</div>\n"
   ]
  },
  {
   "cell_type": "code",
   "execution_count": 2,
   "id": "41049ade",
   "metadata": {},
   "outputs": [],
   "source": [
    "from os import chdir\n",
    "\n",
    "# retroceder al directorio principal\n",
    "chdir(\"..\")"
   ]
  },
  {
   "cell_type": "code",
   "execution_count": 3,
   "id": "c8db8c92",
   "metadata": {},
   "outputs": [],
   "source": [
    "import pickle\n",
    "import matplotlib.pyplot as plt\n",
    "from scipy.stats import zscore\n",
    "from sklearn import preprocessing\n",
    "from sklearn.preprocessing import OneHotEncoder\n",
    "from scipy import stats\n",
    "from utils.custom import anomaly_delete\n",
    "from utils.custom import handle_outliers\n",
    "from utils.custom import find_boundaries_quuantil\n",
    "from utils.custom import find_boundaries_sigma"
   ]
  },
  {
   "cell_type": "code",
   "execution_count": null,
   "id": "b38bc9ad",
   "metadata": {},
   "outputs": [],
   "source": []
  },
  {
   "cell_type": "code",
   "execution_count": null,
   "id": "750c78f6",
   "metadata": {},
   "outputs": [],
   "source": [
    "# Load data (deserialize)\n",
    "with open('pickle/.pickle', 'rb') as handle:\n",
    "    df = pickle.load(handle)"
   ]
  },
  {
   "cell_type": "code",
   "execution_count": 3,
   "id": "b7f7b491",
   "metadata": {},
   "outputs": [],
   "source": [
    "# variables_numericas = df.select_dtypes(include=['int64', 'float64'])\n",
    "# variables_categoricas = df.select_dtypes(include=['category'])\n",
    "# etiqueta = 'Etiqueta'\n"
   ]
  },
  {
   "cell_type": "markdown",
   "id": "8e836f2e",
   "metadata": {},
   "source": [
    "# Normalización y estadarización de variables"
   ]
  },
  {
   "cell_type": "code",
   "execution_count": null,
   "id": "101341f4",
   "metadata": {},
   "outputs": [],
   "source": [
    "from mlxtend.preprocessing import standardize\n",
    "df_std = standardize(df.iloc[:, 0:19 ])"
   ]
  },
  {
   "cell_type": "code",
   "execution_count": null,
   "id": "3e39badc",
   "metadata": {},
   "outputs": [],
   "source": [
    "from sklearn import preprocessing\n",
    "x = df.iloc[:, : ].values #returns a numpy array\n",
    "min_max_scaler = preprocessing.MinMaxScaler()\n",
    "x_scaled = min_max_scaler.fit_transform(x)\n",
    "df_min_max = pd.DataFrame(x_scaled)"
   ]
  },
  {
   "cell_type": "code",
   "execution_count": null,
   "id": "5573cb52",
   "metadata": {},
   "outputs": [],
   "source": [
    "from scipy.stats import zscore\n",
    "df_z_score = df.iloc[:,:].apply(zscore)"
   ]
  },
  {
   "cell_type": "markdown",
   "id": "24d204a4",
   "metadata": {},
   "source": [
    "# Discretizar"
   ]
  },
  {
   "cell_type": "code",
   "execution_count": 4,
   "id": "ed1dfd6d",
   "metadata": {},
   "outputs": [],
   "source": [
    "# n = 5\n",
    "# var_dis = KBinsDiscretizer(n_bins=n, encode='ordinal',strategy = \"kmeans\").fit_transform(df[['var']])"
   ]
  },
  {
   "cell_type": "code",
   "execution_count": 5,
   "id": "cd5a55b9",
   "metadata": {},
   "outputs": [],
   "source": [
    "# Definir los límites de los intervalos y las etiquetas de las categorías\n",
    "# bins = [0, 30, 50, float('inf')]\n",
    "# labels = ['Joven', 'Adulto', 'Mayor']\n",
    "\n",
    "# Discretizar la columna \"Edad\" y crear una nueva columna \"Categoría\"\n",
    "# df['Categoría'] = pd.cut(df['Edad'], bins=bins, labels=labels)"
   ]
  },
  {
   "cell_type": "markdown",
   "id": "6fc9e2c3",
   "metadata": {},
   "source": [
    "Obtener la gráfica de bigotes y la forma de la distribución de la variable"
   ]
  },
  {
   "cell_type": "code",
   "execution_count": 9,
   "id": "9b0bc2b7",
   "metadata": {},
   "outputs": [],
   "source": [
    "# fig,ax = plt.subplots(nrows = 1, ncols = 2)\n",
    "# df._.plot(kind = 'box',figsize = [12.0,5.0],title=\"\",ax = ax[0])\n",
    "# df._.plot(kind = 'density',figsize = [12.0,5.0],title=\"\",ax = ax[1])"
   ]
  },
  {
   "cell_type": "code",
   "execution_count": 5,
   "id": "3c07e656",
   "metadata": {},
   "outputs": [],
   "source": [
    "# - La variable __volume__ está sesgado a la derecha, por lo cual debemos transformar la variable para reducir el sesgo.\n",
    "# - Si las colas de la distribución son muy larga es necesario crear un piso y un techo para los valores extremos"
   ]
  },
  {
   "cell_type": "markdown",
   "id": "62731e5e",
   "metadata": {},
   "source": [
    "#  Sesgo de simetría y normalidad"
   ]
  },
  {
   "cell_type": "code",
   "execution_count": 7,
   "id": "fd4a31c6",
   "metadata": {},
   "outputs": [],
   "source": [
    "# Aplicaresmos una trasformación \n",
    "# para normalizar la variable y obervar su distribución después de la trasformación\n"
   ]
  },
  {
   "cell_type": "code",
   "execution_count": 8,
   "id": "5dc6b735",
   "metadata": {},
   "outputs": [],
   "source": [
    "# Aplicar una transformación logaritmica\n",
    "# train[''] = (((np.log2(((df._ - np.mean(df._))/np.std(df._))**2))))\n",
    "\n",
    "# Aplicar una transformación de raíz cuadrada\n",
    "# df[''] = np.sqrt(df[''])\n",
    "\n",
    "\n",
    "# Aplicar la transformación de Box-Cox\n",
    "# df[''], _ = stats.boxcox(df[''])\n"
   ]
  },
  {
   "cell_type": "markdown",
   "id": "ec949790",
   "metadata": {},
   "source": [
    "La transformación logarítmica no arroja buenos resultados, probemos con dos transformaciones más complejas : `PowerTransformer` y `QuantileTransformer`"
   ]
  },
  {
   "cell_type": "code",
   "execution_count": null,
   "id": "3028dd40",
   "metadata": {},
   "outputs": [],
   "source": [
    "# test_transformers([columns])\n",
    "\n",
    "#qt = QuantileTransformer(n_quantiles=5000, output_distribution='normal')\n",
    "#array = np.array(df['']).reshape(-1, 1)\n",
    "#x = qt.fit_transform(array)\n",
    "\n",
    "#df['']= x"
   ]
  },
  {
   "cell_type": "markdown",
   "id": "8ea9c1b7",
   "metadata": {},
   "source": [
    "Podemos ver que NO|se redujo la asimetría por la derecha. "
   ]
  },
  {
   "cell_type": "markdown",
   "id": "e0f4a687",
   "metadata": {},
   "source": [
    "# Datos átipicos"
   ]
  },
  {
   "cell_type": "markdown",
   "id": "adb46b20",
   "metadata": {},
   "source": [
    "Ahora grafiquemos la variable X segmentada de acuerdo a sus diferentes clases para comprobar que no existe presencia de valores átipicos"
   ]
  },
  {
   "cell_type": "code",
   "execution_count": null,
   "id": "f0d6a456",
   "metadata": {},
   "outputs": [],
   "source": [
    "# matplotlib.rcParams['figure.figsize'] = (20.0, 10.0)\n",
    "# fig,ax = plt.subplots(nrows = 1, ncols = 2)\n",
    "# sns.boxplot(x = '', y = '',data = train,ax = ax[0])\n",
    "# g = sns.FacetGrid(train,col='')\n",
    "# g.map(sns.distplot,\"\")\n",
    "# sns.distplot(train[''],ax = ax[1])"
   ]
  },
  {
   "cell_type": "markdown",
   "id": "7c5a5a49",
   "metadata": {},
   "source": [
    "El diagrama de bigotes muestras la posible existencia de datos atípicos, lo que indica que aún estan sesgados los datos."
   ]
  },
  {
   "cell_type": "markdown",
   "id": "3634c429",
   "metadata": {},
   "source": [
    " Las gráficas de distribución de densidad muestra que las distribuciones tiene colas largas con la derecha y por la izquierda, aun que se debe mensionar que la asimetría se ha reducido."
   ]
  },
  {
   "cell_type": "code",
   "execution_count": null,
   "id": "7e26c83b",
   "metadata": {},
   "outputs": [],
   "source": []
  },
  {
   "cell_type": "code",
   "execution_count": null,
   "id": "3dfd5669",
   "metadata": {},
   "outputs": [],
   "source": [
    "\n",
    "# definir el límites de forna visual\n",
    "\n",
    "# upper_bound = -7\n",
    "# lower_bound = 2\n",
    "# idxs = train.loc[(train.volume>upper_bound) & (train.volume<lower_bound)].index\n",
    "\n",
    "# mx = max(df.iloc[idxs]._)\n",
    "# mn = min(df.iloc[idxs]._)\n",
    "# df._ = df._.apply(anomaly_delete)"
   ]
  },
  {
   "cell_type": "code",
   "execution_count": null,
   "id": "6e2e6f30",
   "metadata": {},
   "outputs": [],
   "source": [
    "# upper_boundary, lower_boundary = find_boundaries_sigma(df, 'variable',num_sigma=2)\n",
    "# upper_boundary, lower_boundary = find_boundaries_quuantil(df, 'variable', distance=1.5)\n",
    "# df= handle_outliers(df, variable, distance=1.5, num_sigma = 3, flag_quantil = True)"
   ]
  },
  {
   "cell_type": "code",
   "execution_count": null,
   "id": "3fc0b0c4",
   "metadata": {},
   "outputs": [],
   "source": [
    "# gráficar nuevamente"
   ]
  },
  {
   "cell_type": "markdown",
   "id": "feee5e06",
   "metadata": {},
   "source": [
    "# Datos cicliclos\n"
   ]
  },
  {
   "cell_type": "code",
   "execution_count": 8,
   "id": "5363076a",
   "metadata": {},
   "outputs": [],
   "source": [
    "# agregar dos variable más a los datos : mes y dia\n",
    "# df['month'] = df.Date.dt.month\n",
    "# df['day'] = df.Date.dt.day"
   ]
  },
  {
   "cell_type": "code",
   "execution_count": 7,
   "id": "0fd654b0",
   "metadata": {},
   "outputs": [],
   "source": [
    "\n",
    "# df = encode(df, 'month', 12)\n",
    "# df = encode(df, 'day', 31)\n"
   ]
  },
  {
   "cell_type": "code",
   "execution_count": 9,
   "id": "91e08ad7",
   "metadata": {},
   "outputs": [],
   "source": [
    "# ax = df.plot.scatter('mes_sin', 'mes_cos').set_aspect('equal')"
   ]
  },
  {
   "cell_type": "markdown",
   "id": "2b7629bc",
   "metadata": {},
   "source": [
    "# Valores Ausentes"
   ]
  },
  {
   "cell_type": "code",
   "execution_count": 11,
   "id": "f009faf6",
   "metadata": {},
   "outputs": [],
   "source": [
    "#df.fillna(df.mode())\n",
    "# df.fillna(df.median())\n",
    "\n",
    "# valor no nulo previo o el siguiente    \n",
    "# df.fillna(method='pad')\n",
    "# df.fillna(method='bfill')\n",
    "\n",
    "# methods = ['linear', 'quadratic', 'cubic']\n",
    "\n",
    "# df = pd.DataFrame({m: df[''].interpolate(method=m) for m in methods})"
   ]
  },
  {
   "cell_type": "markdown",
   "id": "4e99cd56",
   "metadata": {},
   "source": [
    "# Desbalanceo"
   ]
  },
  {
   "cell_type": "code",
   "execution_count": 16,
   "id": "20804c7c",
   "metadata": {},
   "outputs": [],
   "source": [
    "# https://imbalanced-learn.org/stable/auto_examples/api/plot_sampling_strategy_usage.html#sphx-glr-auto-examples-api-plot-sampling-strategy-usage-py"
   ]
  },
  {
   "cell_type": "markdown",
   "id": "171e6967",
   "metadata": {},
   "source": [
    "# Convinación de Variables"
   ]
  },
  {
   "cell_type": "code",
   "execution_count": 15,
   "id": "5122b71a",
   "metadata": {},
   "outputs": [],
   "source": [
    "# https://feature-engine.trainindata.com/en/latest/index.html\n",
    "# https://featuretools.alteryx.com/en/stable/getting_started/afe.html#Creating-%22Deep-Features%22\n",
    "# https://scikit-learn.org/stable/modules/generated/sklearn.preprocessing.PolynomialFeatures.html"
   ]
  },
  {
   "cell_type": "markdown",
   "id": "c9adc8b5",
   "metadata": {},
   "source": [
    "# Categóricos"
   ]
  },
  {
   "cell_type": "markdown",
   "id": "c17c8afd",
   "metadata": {},
   "source": [
    "### Convertir las variables a tipo `category`"
   ]
  },
  {
   "cell_type": "code",
   "execution_count": null,
   "id": "83d63d49",
   "metadata": {},
   "outputs": [],
   "source": [
    "for i in range(len(variables_categoricas)):\n",
    "    df[variables_categoricas[i]]=df[variables_categoricas[i]].astype('category')"
   ]
  },
  {
   "cell_type": "markdown",
   "id": "22f8d183",
   "metadata": {},
   "source": [
    "### Convertir las variables a tipo `ordinal`"
   ]
  },
  {
   "cell_type": "code",
   "execution_count": null,
   "id": "b19a2b8e",
   "metadata": {},
   "outputs": [],
   "source": [
    "for i in range(len(variables_categoricas)):\n",
    "    df[variables_categoricas[i]]=df[variables_categoricas[i]].astype('category').cat.codes.values"
   ]
  },
  {
   "cell_type": "markdown",
   "id": "8b92d878",
   "metadata": {},
   "source": [
    "### Convertir las variables a tipo `etiqueta``"
   ]
  },
  {
   "cell_type": "code",
   "execution_count": 6,
   "id": "7eee3c0b",
   "metadata": {},
   "outputs": [],
   "source": [
    "#le2 = preprocessing.LabelEncoder()\n",
    "\n",
    "#for i in range(len(cat_col)):\n",
    "    #df[cat_col[i]]=le2.fit_transform(df[cat_col[i]])"
   ]
  },
  {
   "cell_type": "markdown",
   "id": "820afc7b",
   "metadata": {},
   "source": [
    "### Convertir las variables a tipo `onehot`"
   ]
  },
  {
   "cell_type": "code",
   "execution_count": null,
   "id": "7a542a6a",
   "metadata": {},
   "outputs": [],
   "source": [
    "# df = pd.get_dummies(df, columns=['Categoria'])"
   ]
  },
  {
   "cell_type": "markdown",
   "id": "147f5820",
   "metadata": {},
   "source": [
    "# Save file"
   ]
  },
  {
   "cell_type": "code",
   "execution_count": null,
   "id": "fa10bdf5",
   "metadata": {},
   "outputs": [],
   "source": [
    "# Store data \n",
    "with open('pickle/test_integration.pickle', 'wb') as handle:\n",
    "    pickle.dump(test_merge4, handle, protocol=pickle.HIGHEST_PROTOCOL)"
   ]
  },
  {
   "cell_type": "code",
   "execution_count": null,
   "id": "94c017d1",
   "metadata": {},
   "outputs": [],
   "source": []
  }
 ],
 "metadata": {
  "kernelspec": {
   "display_name": "Python 3 (ipykernel)",
   "language": "python",
   "name": "python3"
  },
  "language_info": {
   "codemirror_mode": {
    "name": "ipython",
    "version": 3
   },
   "file_extension": ".py",
   "mimetype": "text/x-python",
   "name": "python",
   "nbconvert_exporter": "python",
   "pygments_lexer": "ipython3",
   "version": "3.11.4"
  }
 },
 "nbformat": 4,
 "nbformat_minor": 5
}
