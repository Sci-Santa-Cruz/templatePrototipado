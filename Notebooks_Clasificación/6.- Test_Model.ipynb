{
 "cells": [
  {
   "cell_type": "code",
   "execution_count": null,
   "id": "55c75a07-50c2-44e3-a60f-5e57b035360a",
   "metadata": {},
   "outputs": [],
   "source": []
  },
  {
   "cell_type": "code",
   "execution_count": 1,
   "id": "b8621a52-1422-4445-9a97-a8954b87b729",
   "metadata": {},
   "outputs": [],
   "source": [
    "import os\n",
    "os.chdir(\"..\")"
   ]
  },
  {
   "cell_type": "code",
   "execution_count": 2,
   "id": "1eee3f57-4f6d-4fa1-b5f9-c1df43da8410",
   "metadata": {},
   "outputs": [],
   "source": [
    "# Establecer una variable de entorno llamada \"MI_VARIABLE\"\n",
    "os.environ['MODEL_URI'] = 'file:///Users/developer6/Documents/Reto_ Mobiik/artifacts/50/e421bb6cb52b4a28ae1b861699f04a86/artifacts/knn_model_grid'\n",
    "# export $(cat ./conf/.local | xargs);"
   ]
  },
  {
   "cell_type": "code",
   "execution_count": 3,
   "id": "24547893-076e-46ee-b7db-24562b8dda1e",
   "metadata": {},
   "outputs": [],
   "source": [
    "from utils.classifier import ModelClassifier\n",
    "import numpy as np\n",
    "import json\n"
   ]
  },
  {
   "cell_type": "code",
   "execution_count": 24,
   "id": "fd6eee65-bfdf-4964-aa39-a6457120b3c6",
   "metadata": {},
   "outputs": [
    {
     "data": {
      "text/plain": [
       "{'0': 'Setosa', '1': 'Versicolor', '2': 'Virginica'}"
      ]
     },
     "execution_count": 24,
     "metadata": {},
     "output_type": "execute_result"
    }
   ],
   "source": [
    "# load diccionario de categorias\n",
    "\n",
    "\n",
    "# Abre el archivo JSON en modo lectura\n",
    "with open(\"data/interim/dict_cat_to_code.json\", \"r\") as infile:\n",
    "    # Carga el contenido del archivo JSON en un diccionario\n",
    "    dict_cat_to_code = json.load(infile)\n",
    "dict_cat_to_code"
   ]
  },
  {
   "cell_type": "code",
   "execution_count": 22,
   "id": "5fb7250e-696b-4e0c-8e79-a9ff3ae91a03",
   "metadata": {},
   "outputs": [
    {
     "data": {
      "text/plain": [
       "'Setosa'"
      ]
     },
     "execution_count": 22,
     "metadata": {},
     "output_type": "execute_result"
    }
   ],
   "source": []
  },
  {
   "cell_type": "code",
   "execution_count": 5,
   "id": "e77593fe-cd60-4694-b99e-f4b441528a73",
   "metadata": {},
   "outputs": [],
   "source": [
    "Classifier = ModelClassifier()"
   ]
  },
  {
   "cell_type": "code",
   "execution_count": 6,
   "id": "c752f276-56c1-4caf-b26d-3fd30067d471",
   "metadata": {},
   "outputs": [
    {
     "name": "stdout",
     "output_type": "stream",
     "text": [
      "1\n"
     ]
    }
   ],
   "source": [
    "# Cargar tus datos de prueba (reemplazar esto con tus propios datos)\n",
    "# for iris \n",
    "features = np.array([1,1,1,1]).reshape(1, -1)\n",
    "print(len(features))\n",
    "# Realizar predicciones\n",
    "predictions = Classifier.predict(features)\n"
   ]
  },
  {
   "cell_type": "code",
   "execution_count": 7,
   "id": "18e1ba77-46b5-4ee8-846b-14b16aa1862a",
   "metadata": {},
   "outputs": [
    {
     "data": {
      "text/plain": [
       "array([[1., 0., 0.]])"
      ]
     },
     "execution_count": 7,
     "metadata": {},
     "output_type": "execute_result"
    }
   ],
   "source": [
    "Classifier.predict_proba(features)"
   ]
  },
  {
   "cell_type": "code",
   "execution_count": 11,
   "id": "9969eb12-a830-46ec-a42e-6c7f50b73290",
   "metadata": {},
   "outputs": [
    {
     "data": {
      "text/plain": [
       "[(0, 1.0)]"
      ]
     },
     "execution_count": 11,
     "metadata": {},
     "output_type": "execute_result"
    }
   ],
   "source": [
    "# (clase,proba)\n",
    "list(Classifier.get_predict_proba(features))\n"
   ]
  },
  {
   "cell_type": "code",
   "execution_count": 23,
   "id": "e00dff51-5954-4594-8b09-8ecd37eedb80",
   "metadata": {},
   "outputs": [
    {
     "name": "stdout",
     "output_type": "stream",
     "text": [
      "Input Sentence:  [[1 1 1 1]]\n",
      "Predicted Class:  Setosa\n"
     ]
    }
   ],
   "source": [
    "\n",
    "\n",
    "print('Input Sentence: ', features)\n",
    "print('Predicted Class: ', dict_cat_to_code[str(np.argmax(Classifier.predict_proba(features)))])"
   ]
  },
  {
   "cell_type": "code",
   "execution_count": null,
   "id": "07a3b1b7-9097-44c6-ac5d-c4a9fae675d5",
   "metadata": {},
   "outputs": [],
   "source": []
  }
 ],
 "metadata": {
  "kernelspec": {
   "display_name": "Python 3 (ipykernel)",
   "language": "python",
   "name": "python3"
  },
  "language_info": {
   "codemirror_mode": {
    "name": "ipython",
    "version": 3
   },
   "file_extension": ".py",
   "mimetype": "text/x-python",
   "name": "python",
   "nbconvert_exporter": "python",
   "pygments_lexer": "ipython3",
   "version": "3.10.12"
  }
 },
 "nbformat": 4,
 "nbformat_minor": 5
}
