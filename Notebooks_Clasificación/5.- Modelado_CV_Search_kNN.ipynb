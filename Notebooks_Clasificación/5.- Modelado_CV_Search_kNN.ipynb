{
 "cells": [
  {
   "cell_type": "markdown",
   "metadata": {},
   "source": [
    "\n",
    "<div class=\"jumbotron\">\n",
    "  <h1><i class=\"fa fa-bar-chart\" aria-hidden=\"true\"></i> Modelado de datos</h1>\n",
    "  <p></p>\n",
    "</div>"
   ]
  },
  {
   "cell_type": "code",
   "execution_count": 1,
   "metadata": {},
   "outputs": [],
   "source": [
    "# ! pip install --upgrade setuptools pip"
   ]
  },
  {
   "cell_type": "code",
   "execution_count": 26,
   "metadata": {},
   "outputs": [],
   "source": [
    "import mlflow\n",
    "import mlflow.sklearn\n",
    "from pandas import DataFrame\n",
    "from sklearn.datasets import load_iris\n",
    "from sklearn.model_selection import train_test_split, GridSearchCV, RandomizedSearchCV\n",
    "from sklearn.metrics import accuracy_score, precision_score, recall_score, f1_score\n",
    "from sklearn.metrics import make_scorer\n",
    "from sklearn.neighbors import KNeighborsClassifier\n",
    "import pickle\n",
    "from datetime import datetime\n",
    "from warnings import filterwarnings\n",
    "filterwarnings('ignore')"
   ]
  },
  {
   "cell_type": "code",
   "execution_count": 3,
   "metadata": {},
   "outputs": [],
   "source": [
    "from os import chdir\n",
    "\n",
    "# retroceder al directorio principal\n",
    "chdir(\"..\")"
   ]
  },
  {
   "cell_type": "code",
   "execution_count": 4,
   "metadata": {},
   "outputs": [],
   "source": [
    "def get_timestamp():\n",
    "    now = datetime.now()\n",
    "    year = '{:02d}'.format(now.year)\n",
    "    month = '{:02d}'.format(now.month)\n",
    "    day = '{:02d}'.format(now.day)\n",
    "    hour = '{:02d}'.format(now.hour)\n",
    "    minute = '{:02d}'.format(now.minute)\n",
    "    return '{}-{}-{}-{}-{}'.format(year, month, day,hour,minute)\n",
    "    "
   ]
  },
  {
   "cell_type": "code",
   "execution_count": 5,
   "metadata": {},
   "outputs": [],
   "source": [
    "## Tenga cuidado con sklearn y pandas en el entorno de producción."
   ]
  },
  {
   "cell_type": "code",
   "execution_count": 6,
   "metadata": {},
   "outputs": [],
   "source": [
    "mlflow.set_tracking_uri(\"http://localhost:8002\")"
   ]
  },
  {
   "cell_type": "markdown",
   "metadata": {},
   "source": [
    "# Cargar datos"
   ]
  },
  {
   "cell_type": "code",
   "execution_count": 7,
   "metadata": {},
   "outputs": [],
   "source": [
    "# Load data (deserialize)\n",
    "# Load data (deserialize)\n",
    "with open('data/interim/transform.pickle','rb') as handle:\n",
    "    df = pickle.load(handle)"
   ]
  },
  {
   "cell_type": "code",
   "execution_count": 8,
   "metadata": {},
   "outputs": [
    {
     "data": {
      "text/html": [
       "<div>\n",
       "<style scoped>\n",
       "    .dataframe tbody tr th:only-of-type {\n",
       "        vertical-align: middle;\n",
       "    }\n",
       "\n",
       "    .dataframe tbody tr th {\n",
       "        vertical-align: top;\n",
       "    }\n",
       "\n",
       "    .dataframe thead th {\n",
       "        text-align: right;\n",
       "    }\n",
       "</style>\n",
       "<table border=\"1\" class=\"dataframe\">\n",
       "  <thead>\n",
       "    <tr style=\"text-align: right;\">\n",
       "      <th></th>\n",
       "      <th>sepal.length</th>\n",
       "      <th>sepal.width</th>\n",
       "      <th>petal.length</th>\n",
       "      <th>petal.width</th>\n",
       "      <th>variety</th>\n",
       "      <th>class</th>\n",
       "    </tr>\n",
       "  </thead>\n",
       "  <tbody>\n",
       "    <tr>\n",
       "      <th>0</th>\n",
       "      <td>5.1</td>\n",
       "      <td>3.5</td>\n",
       "      <td>1.4</td>\n",
       "      <td>0.2</td>\n",
       "      <td>Setosa</td>\n",
       "      <td>0</td>\n",
       "    </tr>\n",
       "    <tr>\n",
       "      <th>1</th>\n",
       "      <td>4.9</td>\n",
       "      <td>3.0</td>\n",
       "      <td>1.4</td>\n",
       "      <td>0.2</td>\n",
       "      <td>Setosa</td>\n",
       "      <td>0</td>\n",
       "    </tr>\n",
       "    <tr>\n",
       "      <th>2</th>\n",
       "      <td>4.7</td>\n",
       "      <td>3.2</td>\n",
       "      <td>1.3</td>\n",
       "      <td>0.2</td>\n",
       "      <td>Setosa</td>\n",
       "      <td>0</td>\n",
       "    </tr>\n",
       "    <tr>\n",
       "      <th>3</th>\n",
       "      <td>4.6</td>\n",
       "      <td>3.1</td>\n",
       "      <td>1.5</td>\n",
       "      <td>0.2</td>\n",
       "      <td>Setosa</td>\n",
       "      <td>0</td>\n",
       "    </tr>\n",
       "    <tr>\n",
       "      <th>4</th>\n",
       "      <td>5.0</td>\n",
       "      <td>3.6</td>\n",
       "      <td>1.4</td>\n",
       "      <td>0.2</td>\n",
       "      <td>Setosa</td>\n",
       "      <td>0</td>\n",
       "    </tr>\n",
       "  </tbody>\n",
       "</table>\n",
       "</div>"
      ],
      "text/plain": [
       "   sepal.length  sepal.width  petal.length  petal.width variety  class\n",
       "0           5.1          3.5           1.4          0.2  Setosa      0\n",
       "1           4.9          3.0           1.4          0.2  Setosa      0\n",
       "2           4.7          3.2           1.3          0.2  Setosa      0\n",
       "3           4.6          3.1           1.5          0.2  Setosa      0\n",
       "4           5.0          3.6           1.4          0.2  Setosa      0"
      ]
     },
     "execution_count": 8,
     "metadata": {},
     "output_type": "execute_result"
    }
   ],
   "source": [
    "df.head()"
   ]
  },
  {
   "cell_type": "code",
   "execution_count": 9,
   "metadata": {},
   "outputs": [],
   "source": [
    "variables_numericas = df.select_dtypes(include=['int64', 'float64']).columns\n",
    "variables_categoricas = df.select_dtypes(include=['category']).columns\n"
   ]
  },
  {
   "cell_type": "markdown",
   "metadata": {},
   "source": [
    "## Label"
   ]
  },
  {
   "cell_type": "code",
   "execution_count": 10,
   "metadata": {},
   "outputs": [],
   "source": [
    "label = 'class'"
   ]
  },
  {
   "cell_type": "markdown",
   "metadata": {},
   "source": [
    "# Resumen de datos"
   ]
  },
  {
   "cell_type": "code",
   "execution_count": 11,
   "metadata": {},
   "outputs": [],
   "source": [
    "df_summary = df.groupby([label])\\\n",
    ".size()\\\n",
    ".reset_index()\\\n",
    ".rename(columns={0:'count_'})\\\n",
    "#.sort_values(by=['variety'])"
   ]
  },
  {
   "cell_type": "code",
   "execution_count": 12,
   "metadata": {},
   "outputs": [
    {
     "data": {
      "text/html": [
       "<div>\n",
       "<style scoped>\n",
       "    .dataframe tbody tr th:only-of-type {\n",
       "        vertical-align: middle;\n",
       "    }\n",
       "\n",
       "    .dataframe tbody tr th {\n",
       "        vertical-align: top;\n",
       "    }\n",
       "\n",
       "    .dataframe thead th {\n",
       "        text-align: right;\n",
       "    }\n",
       "</style>\n",
       "<table border=\"1\" class=\"dataframe\">\n",
       "  <thead>\n",
       "    <tr style=\"text-align: right;\">\n",
       "      <th></th>\n",
       "      <th>class</th>\n",
       "      <th>count_</th>\n",
       "    </tr>\n",
       "  </thead>\n",
       "  <tbody>\n",
       "    <tr>\n",
       "      <th>0</th>\n",
       "      <td>0</td>\n",
       "      <td>50</td>\n",
       "    </tr>\n",
       "    <tr>\n",
       "      <th>1</th>\n",
       "      <td>1</td>\n",
       "      <td>50</td>\n",
       "    </tr>\n",
       "    <tr>\n",
       "      <th>2</th>\n",
       "      <td>2</td>\n",
       "      <td>49</td>\n",
       "    </tr>\n",
       "  </tbody>\n",
       "</table>\n",
       "</div>"
      ],
      "text/plain": [
       "   class  count_\n",
       "0      0      50\n",
       "1      1      50\n",
       "2      2      49"
      ]
     },
     "execution_count": 12,
     "metadata": {},
     "output_type": "execute_result"
    }
   ],
   "source": [
    "df_summary.head()"
   ]
  },
  {
   "cell_type": "markdown",
   "metadata": {},
   "source": [
    "### Eliminar variables superfluas"
   ]
  },
  {
   "cell_type": "code",
   "execution_count": 13,
   "metadata": {},
   "outputs": [],
   "source": [
    "# NA"
   ]
  },
  {
   "cell_type": "markdown",
   "metadata": {},
   "source": [
    "# Modeling"
   ]
  },
  {
   "cell_type": "markdown",
   "metadata": {},
   "source": [
    " "
   ]
  },
  {
   "cell_type": "markdown",
   "metadata": {},
   "source": [
    "Podemos ver los resultados de MLFlow si ejecutamos en la terminal:\n",
    "\n",
    "\n",
    "\n",
    " _mlflow ui -p 1234_\n",
    " "
   ]
  },
  {
   "cell_type": "markdown",
   "metadata": {},
   "source": [
    "## Hiperparámetros"
   ]
  },
  {
   "cell_type": "markdown",
   "metadata": {},
   "source": [
    "## set dataset train "
   ]
  },
  {
   "cell_type": "code",
   "execution_count": 14,
   "metadata": {},
   "outputs": [],
   "source": [
    "Y = df[label]"
   ]
  },
  {
   "cell_type": "code",
   "execution_count": 15,
   "metadata": {},
   "outputs": [],
   "source": [
    "X = df[variables_numericas].values"
   ]
  },
  {
   "cell_type": "code",
   "execution_count": 16,
   "metadata": {},
   "outputs": [],
   "source": [
    "# Parámetros para MLFlow"
   ]
  },
  {
   "cell_type": "code",
   "execution_count": 64,
   "metadata": {},
   "outputs": [],
   "source": [
    "columns = [\n",
    "'param_n_neighbors',\n",
    "'param_p',\n",
    "'param_weights',\n",
    "'params',\n",
    "'mean_fit_time',\n",
    "'split0_test_f1',\n",
    "'split1_test_f1',\n",
    "'split2_test_f1',\n",
    "'split3_test_f1',\n",
    "'split4_test_f1',\n",
    "'mean_test_precision',\n",
    "'mean_test_recall',\n",
    "'mean_test_accuracy',\n",
    "'mean_test_f1',\n",
    "'std_test_f1']\n",
    "\n",
    "# Especificar las métricas de evaluación que deseas usar en forma de un diccionario\n",
    "scoring = {\n",
    "    'accuracy': 'accuracy',\n",
    "    'precision': make_scorer(precision_score,average='micro'),\n",
    "    'recall': make_scorer(recall_score,average='micro'),\n",
    "    'f1': make_scorer(f1_score,average='micro')\n",
    "}\n",
    "\n",
    "# Crear funciones para Grid Search y Randomized Search\n",
    "def grid_search_knn(X_train, y_train):\n",
    "    param_grid = {\n",
    "        'n_neighbors': [3, 5, 7, 9],\n",
    "        'weights': ['uniform', 'distance'],\n",
    "        'p': [1, 2]\n",
    "    }\n",
    "    knn = KNeighborsClassifier()\n",
    "    grid_search = GridSearchCV(estimator=knn, param_grid=param_grid, cv=5,n_jobs = -1 , scoring =scoring , verbose = 1,refit='f1' )\n",
    "    grid_search.fit(X_train, y_train)\n",
    "    return grid_search\n",
    "\n",
    "def randomized_search_knn(X_train, y_train):\n",
    "    param_grid = {\n",
    "        'n_neighbors': [3, 5, 7, 9],\n",
    "        'weights': ['uniform', 'distance'],\n",
    "        'p': [1, 2]\n",
    "    }\n",
    "    knn = KNeighborsClassifier()\n",
    "    randomized_search = RandomizedSearchCV(estimator=knn, param_distributions=param_grid, n_iter=10, cv=5,n_jobs = -1 , scoring =scoring , verbose = 1,refit='f1')\n",
    "    randomized_search.fit(X_train, y_train)\n",
    "    return randomized_search"
   ]
  },
  {
   "cell_type": "code",
   "execution_count": 75,
   "metadata": {},
   "outputs": [
    {
     "data": {
      "text/plain": [
       "'202309110954'"
      ]
     },
     "execution_count": 75,
     "metadata": {},
     "output_type": "execute_result"
    }
   ],
   "source": [
    "name_experiment = get_timestamp()\n",
    "name_experiment.replace('-','')"
   ]
  },
  {
   "cell_type": "code",
   "execution_count": 78,
   "metadata": {},
   "outputs": [
    {
     "name": "stderr",
     "output_type": "stream",
     "text": [
      "2023/09/11 10:08:23 INFO mlflow.tracking.fluent: Experiment with name 'reto_kNN_Randomized Search_202309111008' does not exist. Creating a new experiment.\n"
     ]
    },
    {
     "name": "stdout",
     "output_type": "stream",
     "text": [
      "Fitting 5 folds for each of 10 candidates, totalling 50 fits\n"
     ]
    },
    {
     "data": {
      "text/plain": [
       "0.9614285714285714"
      ]
     },
     "metadata": {},
     "output_type": "display_data"
    },
    {
     "data": {
      "text/plain": [
       "{'weights': 'uniform', 'p': 2, 'n_neighbors': 9}"
      ]
     },
     "metadata": {},
     "output_type": "display_data"
    },
    {
     "data": {
      "text/html": [
       "<div>\n",
       "<style scoped>\n",
       "    .dataframe tbody tr th:only-of-type {\n",
       "        vertical-align: middle;\n",
       "    }\n",
       "\n",
       "    .dataframe tbody tr th {\n",
       "        vertical-align: top;\n",
       "    }\n",
       "\n",
       "    .dataframe thead th {\n",
       "        text-align: right;\n",
       "    }\n",
       "</style>\n",
       "<table border=\"1\" class=\"dataframe\">\n",
       "  <thead>\n",
       "    <tr style=\"text-align: right;\">\n",
       "      <th></th>\n",
       "      <th>param_n_neighbors</th>\n",
       "      <th>param_p</th>\n",
       "      <th>param_weights</th>\n",
       "      <th>params</th>\n",
       "      <th>mean_fit_time</th>\n",
       "      <th>split0_test_f1</th>\n",
       "      <th>split1_test_f1</th>\n",
       "      <th>split2_test_f1</th>\n",
       "      <th>split3_test_f1</th>\n",
       "      <th>split4_test_f1</th>\n",
       "      <th>mean_test_precision</th>\n",
       "      <th>mean_test_recall</th>\n",
       "      <th>mean_test_accuracy</th>\n",
       "      <th>mean_test_f1</th>\n",
       "      <th>std_test_f1</th>\n",
       "    </tr>\n",
       "  </thead>\n",
       "  <tbody>\n",
       "    <tr>\n",
       "      <th>3</th>\n",
       "      <td>9</td>\n",
       "      <td>2</td>\n",
       "      <td>uniform</td>\n",
       "      <td>{'weights': 'uniform', 'p': 2, 'n_neighbors': 9}</td>\n",
       "      <td>0.000620</td>\n",
       "      <td>1.000000</td>\n",
       "      <td>0.952381</td>\n",
       "      <td>0.904762</td>\n",
       "      <td>1.0</td>\n",
       "      <td>0.95</td>\n",
       "      <td>0.961429</td>\n",
       "      <td>0.961429</td>\n",
       "      <td>0.961429</td>\n",
       "      <td>0.961429</td>\n",
       "      <td>0.035775</td>\n",
       "    </tr>\n",
       "    <tr>\n",
       "      <th>5</th>\n",
       "      <td>9</td>\n",
       "      <td>1</td>\n",
       "      <td>uniform</td>\n",
       "      <td>{'weights': 'uniform', 'p': 1, 'n_neighbors': 9}</td>\n",
       "      <td>0.000707</td>\n",
       "      <td>0.952381</td>\n",
       "      <td>0.904762</td>\n",
       "      <td>0.904762</td>\n",
       "      <td>1.0</td>\n",
       "      <td>0.95</td>\n",
       "      <td>0.942381</td>\n",
       "      <td>0.942381</td>\n",
       "      <td>0.942381</td>\n",
       "      <td>0.942381</td>\n",
       "      <td>0.035520</td>\n",
       "    </tr>\n",
       "    <tr>\n",
       "      <th>7</th>\n",
       "      <td>9</td>\n",
       "      <td>2</td>\n",
       "      <td>distance</td>\n",
       "      <td>{'weights': 'distance', 'p': 2, 'n_neighbors': 9}</td>\n",
       "      <td>0.000519</td>\n",
       "      <td>1.000000</td>\n",
       "      <td>0.857143</td>\n",
       "      <td>0.904762</td>\n",
       "      <td>1.0</td>\n",
       "      <td>0.95</td>\n",
       "      <td>0.942381</td>\n",
       "      <td>0.942381</td>\n",
       "      <td>0.942381</td>\n",
       "      <td>0.942381</td>\n",
       "      <td>0.055459</td>\n",
       "    </tr>\n",
       "    <tr>\n",
       "      <th>2</th>\n",
       "      <td>3</td>\n",
       "      <td>2</td>\n",
       "      <td>distance</td>\n",
       "      <td>{'weights': 'distance', 'p': 2, 'n_neighbors': 3}</td>\n",
       "      <td>0.000627</td>\n",
       "      <td>1.000000</td>\n",
       "      <td>0.857143</td>\n",
       "      <td>0.904762</td>\n",
       "      <td>1.0</td>\n",
       "      <td>0.90</td>\n",
       "      <td>0.932381</td>\n",
       "      <td>0.932381</td>\n",
       "      <td>0.932381</td>\n",
       "      <td>0.932381</td>\n",
       "      <td>0.057649</td>\n",
       "    </tr>\n",
       "    <tr>\n",
       "      <th>0</th>\n",
       "      <td>7</td>\n",
       "      <td>1</td>\n",
       "      <td>distance</td>\n",
       "      <td>{'weights': 'distance', 'p': 1, 'n_neighbors': 7}</td>\n",
       "      <td>0.000652</td>\n",
       "      <td>0.952381</td>\n",
       "      <td>0.809524</td>\n",
       "      <td>0.904762</td>\n",
       "      <td>1.0</td>\n",
       "      <td>0.95</td>\n",
       "      <td>0.923333</td>\n",
       "      <td>0.923333</td>\n",
       "      <td>0.923333</td>\n",
       "      <td>0.923333</td>\n",
       "      <td>0.064390</td>\n",
       "    </tr>\n",
       "  </tbody>\n",
       "</table>\n",
       "</div>"
      ],
      "text/plain": [
       "  param_n_neighbors param_p param_weights  \\\n",
       "3                 9       2       uniform   \n",
       "5                 9       1       uniform   \n",
       "7                 9       2      distance   \n",
       "2                 3       2      distance   \n",
       "0                 7       1      distance   \n",
       "\n",
       "                                              params  mean_fit_time  \\\n",
       "3   {'weights': 'uniform', 'p': 2, 'n_neighbors': 9}       0.000620   \n",
       "5   {'weights': 'uniform', 'p': 1, 'n_neighbors': 9}       0.000707   \n",
       "7  {'weights': 'distance', 'p': 2, 'n_neighbors': 9}       0.000519   \n",
       "2  {'weights': 'distance', 'p': 2, 'n_neighbors': 3}       0.000627   \n",
       "0  {'weights': 'distance', 'p': 1, 'n_neighbors': 7}       0.000652   \n",
       "\n",
       "   split0_test_f1  split1_test_f1  split2_test_f1  split3_test_f1  \\\n",
       "3        1.000000        0.952381        0.904762             1.0   \n",
       "5        0.952381        0.904762        0.904762             1.0   \n",
       "7        1.000000        0.857143        0.904762             1.0   \n",
       "2        1.000000        0.857143        0.904762             1.0   \n",
       "0        0.952381        0.809524        0.904762             1.0   \n",
       "\n",
       "   split4_test_f1  mean_test_precision  mean_test_recall  mean_test_accuracy  \\\n",
       "3            0.95             0.961429          0.961429            0.961429   \n",
       "5            0.95             0.942381          0.942381            0.942381   \n",
       "7            0.95             0.942381          0.942381            0.942381   \n",
       "2            0.90             0.932381          0.932381            0.932381   \n",
       "0            0.95             0.923333          0.923333            0.923333   \n",
       "\n",
       "   mean_test_f1  std_test_f1  \n",
       "3      0.961429     0.035775  \n",
       "5      0.942381     0.035520  \n",
       "7      0.942381     0.055459  \n",
       "2      0.932381     0.057649  \n",
       "0      0.923333     0.064390  "
      ]
     },
     "metadata": {},
     "output_type": "display_data"
    }
   ],
   "source": [
    "# Dividir los datos en conjuntos de entrenamiento y prueba\n",
    "X_train, X_test, y_train, y_test = train_test_split(X, Y, test_size=0.3, random_state=42)\n",
    "\n",
    "name_experiment = get_timestamp()\n",
    "name_experiment = name_experiment.replace('-','')\n",
    "\n",
    "\n",
    "run_name = \"Grid Search\"\n",
    "run_name=\"Randomized Search\"\n",
    "\n",
    "results = None\n",
    "\n",
    "name_project = 'reto'\n",
    "name_algo = 'kNN'\n",
    "name_experiment = name_project + '_' + name_algo + '_' + run_name + '_' + name_experiment\n",
    "mlflow.set_experiment(name_experiment)\n",
    "\n",
    "\n",
    "if run_name == \"Grid Search\":\n",
    "    # Realizar Grid Search\n",
    "    with mlflow.start_run(run_name=\"Grid Search\"):\n",
    "        best_params_grid = grid_search_knn(X_train, y_train)\n",
    "        \n",
    "        mlflow.log_params(best_params_grid.best_params_)\n",
    "        mlflow.sklearn.log_model(best_params_grid.best_estimator_, \"knn_model_grid\")\n",
    "        mlflow.log_metric(\"f1\",best_params_grid.best_score_)\n",
    "        results = DataFrame(best_params_grid.cv_results_)\n",
    "        results.sort_values(by='rank_test_f1', inplace=True)\n",
    "        \n",
    "        for index, row in results[columns].head().iterrows():\n",
    "            # print(row)\n",
    "            run_name = \"ranking \" + str(index)\n",
    "            with mlflow.start_run(run_name=run_name, nested=True):\n",
    "                for column in columns :\n",
    "                    mlflow.log_param(column,row[column])\n",
    "\n",
    "        display(best_params_grid.best_score_)\n",
    "        display(best_params_grid.best_params_)\n",
    "        display(results[columns].head())\n",
    "        \n",
    "        \n",
    "else:\n",
    "    # Realizar Randomized Search\n",
    "    with mlflow.start_run(run_name=\"Randomized Search\"):\n",
    "        best_params_random = randomized_search_knn(X_train, y_train)\n",
    "        mlflow.log_params(best_params_random.best_params_)\n",
    "        mlflow.sklearn.log_model(best_params_random.best_estimator_, \"knn_model_random\")\n",
    "        mlflow.log_metric(\"f1\",best_params_random.best_score_)\n",
    "        results = DataFrame(best_params_random.cv_results_)\n",
    "        results.sort_values(by='rank_test_f1', inplace=True)\n",
    "\n",
    "        for index, row in results[columns].head().iterrows():\n",
    "            # print(row)\n",
    "            run_name = \"ranking \" + str(index)\n",
    "            with mlflow.start_run(run_name=run_name, nested=True):\n",
    "                for column in columns :\n",
    "                    mlflow.log_param(column,row[column])\n",
    "\n",
    "        display(best_params_random.best_score_)\n",
    "        display(best_params_random.best_params_)\n",
    "        display(results[columns].head())\n",
    "\n",
    "# Finalizar MLflow\n",
    "mlflow.end_run()\n"
   ]
  },
  {
   "cell_type": "code",
   "execution_count": null,
   "metadata": {},
   "outputs": [],
   "source": []
  },
  {
   "cell_type": "code",
   "execution_count": null,
   "metadata": {},
   "outputs": [],
   "source": []
  }
 ],
 "metadata": {
  "kernelspec": {
   "display_name": "Python 3 (ipykernel)",
   "language": "python",
   "name": "python3"
  },
  "language_info": {
   "codemirror_mode": {
    "name": "ipython",
    "version": 3
   },
   "file_extension": ".py",
   "mimetype": "text/x-python",
   "name": "python",
   "nbconvert_exporter": "python",
   "pygments_lexer": "ipython3",
   "version": "3.10.12"
  }
 },
 "nbformat": 4,
 "nbformat_minor": 4
}
