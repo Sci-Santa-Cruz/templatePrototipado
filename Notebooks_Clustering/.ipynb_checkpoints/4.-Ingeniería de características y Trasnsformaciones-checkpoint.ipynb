{
 "cells": [
  {
   "cell_type": "markdown",
   "id": "48f9c155",
   "metadata": {},
   "source": [
    "<div class=\"jumbotron\">\n",
    "  <h1><i class=\"fa fa-bar-chart\" aria-hidden=\"true\"></i>Inegeniría de características y trasnformaciones</h1>\n",
    "  <p></p>\n",
    "</div>\n"
   ]
  },
  {
   "cell_type": "code",
   "execution_count": 1,
   "id": "f84661e0-4c8c-4c9f-a905-d7ce89e2b89d",
   "metadata": {},
   "outputs": [],
   "source": [
    "# ! pip install mlxtend"
   ]
  },
  {
   "cell_type": "code",
   "execution_count": 2,
   "id": "41049ade",
   "metadata": {},
   "outputs": [],
   "source": [
    "from os import chdir\n",
    "\n",
    "# retroceder al directorio principal\n",
    "chdir(\"..\")"
   ]
  },
  {
   "cell_type": "code",
   "execution_count": 3,
   "id": "c8db8c92",
   "metadata": {},
   "outputs": [],
   "source": [
    "import pickle\n",
    "import matplotlib.pyplot as plt\n",
    "from scipy.stats import zscore\n",
    "from sklearn import preprocessing\n",
    "from sklearn.preprocessing import OneHotEncoder\n",
    "from scipy import stats\n",
    "from utils.custom import anomaly_delete\n",
    "from utils.custom import handle_outliers\n",
    "from utils.custom import find_boundaries_quuantil\n",
    "from utils.custom import find_boundaries_sigma\n",
    "from pandas import DataFrame\n",
    "from seaborn import boxplot\n",
    "from pandas import get_dummies"
   ]
  },
  {
   "cell_type": "code",
   "execution_count": null,
   "id": "b38bc9ad",
   "metadata": {},
   "outputs": [],
   "source": []
  },
  {
   "cell_type": "code",
   "execution_count": 4,
   "id": "750c78f6",
   "metadata": {},
   "outputs": [],
   "source": [
    "# Load data (deserialize)\n",
    "with open('data/interim/processing.pickle', 'rb') as handle:\n",
    "    df = pickle.load(handle)"
   ]
  },
  {
   "cell_type": "code",
   "execution_count": 5,
   "id": "b7f7b491",
   "metadata": {},
   "outputs": [],
   "source": [
    "variables_numericas = df.select_dtypes(include=['int64', 'float64']).columns\n",
    "variables_categoricas = df.select_dtypes(include=['category']).columns\n",
    "# etiqueta = ''\n"
   ]
  },
  {
   "cell_type": "code",
   "execution_count": 6,
   "id": "c9bf7905-824d-4673-88c9-9ffdf029caec",
   "metadata": {},
   "outputs": [],
   "source": [
    "variables_numericas = ['Age', 'Annual Income (k$)', 'Spending Score (1-100)']"
   ]
  },
  {
   "cell_type": "code",
   "execution_count": 7,
   "id": "c214ffa6-e9e6-4c3c-8bc0-e5acbc0c9511",
   "metadata": {},
   "outputs": [
    {
     "data": {
      "text/plain": [
       "CustomerID                   int64\n",
       "Gender                    category\n",
       "Age                          int64\n",
       "Annual Income (k$)           int64\n",
       "Spending Score (1-100)       int64\n",
       "dtype: object"
      ]
     },
     "execution_count": 7,
     "metadata": {},
     "output_type": "execute_result"
    }
   ],
   "source": [
    "df.dtypes"
   ]
  },
  {
   "cell_type": "markdown",
   "id": "8e836f2e",
   "metadata": {},
   "source": [
    "# Normalización y estadarización de variables"
   ]
  },
  {
   "cell_type": "code",
   "execution_count": 8,
   "id": "101341f4",
   "metadata": {},
   "outputs": [],
   "source": [
    "from mlxtend.preprocessing import standardize\n",
    "df_std = standardize(df[variables_numericas])"
   ]
  },
  {
   "cell_type": "code",
   "execution_count": 9,
   "id": "7d936e60-8b3c-402a-901f-ab5835071e30",
   "metadata": {},
   "outputs": [
    {
     "data": {
      "text/html": [
       "<div>\n",
       "<style scoped>\n",
       "    .dataframe tbody tr th:only-of-type {\n",
       "        vertical-align: middle;\n",
       "    }\n",
       "\n",
       "    .dataframe tbody tr th {\n",
       "        vertical-align: top;\n",
       "    }\n",
       "\n",
       "    .dataframe thead th {\n",
       "        text-align: right;\n",
       "    }\n",
       "</style>\n",
       "<table border=\"1\" class=\"dataframe\">\n",
       "  <thead>\n",
       "    <tr style=\"text-align: right;\">\n",
       "      <th></th>\n",
       "      <th>Age</th>\n",
       "      <th>Annual Income (k$)</th>\n",
       "      <th>Spending Score (1-100)</th>\n",
       "    </tr>\n",
       "  </thead>\n",
       "  <tbody>\n",
       "    <tr>\n",
       "      <th>0</th>\n",
       "      <td>-1.424569</td>\n",
       "      <td>-1.738999</td>\n",
       "      <td>-0.434801</td>\n",
       "    </tr>\n",
       "    <tr>\n",
       "      <th>1</th>\n",
       "      <td>-1.281035</td>\n",
       "      <td>-1.738999</td>\n",
       "      <td>1.195704</td>\n",
       "    </tr>\n",
       "    <tr>\n",
       "      <th>2</th>\n",
       "      <td>-1.352802</td>\n",
       "      <td>-1.700830</td>\n",
       "      <td>-1.715913</td>\n",
       "    </tr>\n",
       "    <tr>\n",
       "      <th>3</th>\n",
       "      <td>-1.137502</td>\n",
       "      <td>-1.700830</td>\n",
       "      <td>1.040418</td>\n",
       "    </tr>\n",
       "    <tr>\n",
       "      <th>4</th>\n",
       "      <td>-0.563369</td>\n",
       "      <td>-1.662660</td>\n",
       "      <td>-0.395980</td>\n",
       "    </tr>\n",
       "    <tr>\n",
       "      <th>...</th>\n",
       "      <td>...</td>\n",
       "      <td>...</td>\n",
       "      <td>...</td>\n",
       "    </tr>\n",
       "    <tr>\n",
       "      <th>195</th>\n",
       "      <td>-0.276302</td>\n",
       "      <td>2.268791</td>\n",
       "      <td>1.118061</td>\n",
       "    </tr>\n",
       "    <tr>\n",
       "      <th>196</th>\n",
       "      <td>0.441365</td>\n",
       "      <td>2.497807</td>\n",
       "      <td>-0.861839</td>\n",
       "    </tr>\n",
       "    <tr>\n",
       "      <th>197</th>\n",
       "      <td>-0.491602</td>\n",
       "      <td>2.497807</td>\n",
       "      <td>0.923953</td>\n",
       "    </tr>\n",
       "    <tr>\n",
       "      <th>198</th>\n",
       "      <td>-0.491602</td>\n",
       "      <td>2.917671</td>\n",
       "      <td>-1.250054</td>\n",
       "    </tr>\n",
       "    <tr>\n",
       "      <th>199</th>\n",
       "      <td>-0.635135</td>\n",
       "      <td>2.917671</td>\n",
       "      <td>1.273347</td>\n",
       "    </tr>\n",
       "  </tbody>\n",
       "</table>\n",
       "<p>200 rows × 3 columns</p>\n",
       "</div>"
      ],
      "text/plain": [
       "          Age  Annual Income (k$)  Spending Score (1-100)\n",
       "0   -1.424569           -1.738999               -0.434801\n",
       "1   -1.281035           -1.738999                1.195704\n",
       "2   -1.352802           -1.700830               -1.715913\n",
       "3   -1.137502           -1.700830                1.040418\n",
       "4   -0.563369           -1.662660               -0.395980\n",
       "..        ...                 ...                     ...\n",
       "195 -0.276302            2.268791                1.118061\n",
       "196  0.441365            2.497807               -0.861839\n",
       "197 -0.491602            2.497807                0.923953\n",
       "198 -0.491602            2.917671               -1.250054\n",
       "199 -0.635135            2.917671                1.273347\n",
       "\n",
       "[200 rows x 3 columns]"
      ]
     },
     "execution_count": 9,
     "metadata": {},
     "output_type": "execute_result"
    }
   ],
   "source": [
    "df_std"
   ]
  },
  {
   "cell_type": "code",
   "execution_count": 10,
   "id": "c9636dd4-8386-4fa7-bd17-ca41bbed658a",
   "metadata": {},
   "outputs": [
    {
     "data": {
      "image/png": "[encoded data removed]",
      "text/plain": [
       "<Figure size 640x480 with 1 Axes>"
      ]
     },
     "metadata": {},
     "output_type": "display_data"
    }
   ],
   "source": [
    "ax = boxplot( data=df_std)"
   ]
  },
  {
   "cell_type": "code",
   "execution_count": 11,
   "id": "3e39badc",
   "metadata": {},
   "outputs": [],
   "source": [
    "from sklearn import preprocessing\n",
    "x = df[variables_numericas].values #returns a numpy array\n",
    "min_max_scaler = preprocessing.MinMaxScaler()\n",
    "x_scaled = min_max_scaler.fit_transform(x)\n",
    "df_min_max = DataFrame(x_scaled)"
   ]
  },
  {
   "cell_type": "code",
   "execution_count": 12,
   "id": "aa9d5f43-b585-44e2-b6e3-2ecc2aea4567",
   "metadata": {},
   "outputs": [
    {
     "data": {
      "image/png": "[encoded data removed]",
      "text/plain": [
       "<Figure size 640x480 with 1 Axes>"
      ]
     },
     "metadata": {},
     "output_type": "display_data"
    }
   ],
   "source": [
    "ax = boxplot( data=df_min_max)"
   ]
  },
  {
   "cell_type": "code",
   "execution_count": 13,
   "id": "5573cb52",
   "metadata": {},
   "outputs": [],
   "source": [
    "from scipy.stats import zscore\n",
    "# df_z_score = df[variables_numericas].apply(zscore)"
   ]
  },
  {
   "cell_type": "code",
   "execution_count": 14,
   "id": "087710fd-601c-410d-843e-4afd6e3e43cd",
   "metadata": {},
   "outputs": [],
   "source": [
    "# df_z_score"
   ]
  },
  {
   "cell_type": "markdown",
   "id": "24d204a4",
   "metadata": {},
   "source": [
    "# Discretizar"
   ]
  },
  {
   "cell_type": "code",
   "execution_count": 15,
   "id": "ed1dfd6d",
   "metadata": {},
   "outputs": [],
   "source": [
    "# n = 5\n",
    "# var_dis = KBinsDiscretizer(n_bins=n, encode='ordinal',strategy = \"kmeans\").fit_transform(df[['var']])"
   ]
  },
  {
   "cell_type": "code",
   "execution_count": 16,
   "id": "cd5a55b9",
   "metadata": {},
   "outputs": [],
   "source": [
    "# Definir los límites de los intervalos y las etiquetas de las categorías\n",
    "# bins = [0, 30, 50, float('inf')]\n",
    "# labels = ['Joven', 'Adulto', 'Mayor']\n",
    "\n",
    "# Discretizar la columna \"Edad\" y crear una nueva columna \"Categoría\"\n",
    "# df['Categoría'] = pd.cut(df['Edad'], bins=bins, labels=labels)"
   ]
  },
  {
   "cell_type": "markdown",
   "id": "6fc9e2c3",
   "metadata": {},
   "source": [
    "Obtener la gráfica de bigotes y la forma de la distribución de la variable"
   ]
  },
  {
   "cell_type": "code",
   "execution_count": 17,
   "id": "9b0bc2b7",
   "metadata": {},
   "outputs": [],
   "source": [
    "# fig,ax = plt.subplots(nrows = 1, ncols = 2)\n",
    "# df._.plot(kind = 'box',figsize = [12.0,5.0],title=\"\",ax = ax[0])\n",
    "# df._.plot(kind = 'density',figsize = [12.0,5.0],title=\"\",ax = ax[1])"
   ]
  },
  {
   "cell_type": "code",
   "execution_count": 18,
   "id": "3c07e656",
   "metadata": {},
   "outputs": [],
   "source": [
    "# - La variable __volume__ está sesgado a la derecha, por lo cual debemos transformar la variable para reducir el sesgo.\n",
    "# - Si las colas de la distribución son muy larga es necesario crear un piso y un techo para los valores extremos"
   ]
  },
  {
   "cell_type": "markdown",
   "id": "62731e5e",
   "metadata": {},
   "source": [
    "#  Sesgo de simetría y normalidad"
   ]
  },
  {
   "cell_type": "code",
   "execution_count": 19,
   "id": "fd4a31c6",
   "metadata": {},
   "outputs": [],
   "source": [
    "# Aplicaresmos una trasformación \n",
    "# para normalizar la variable y obervar su distribución después de la trasformación\n"
   ]
  },
  {
   "cell_type": "code",
   "execution_count": 20,
   "id": "5dc6b735",
   "metadata": {},
   "outputs": [],
   "source": [
    "# Aplicar una transformación logaritmica\n",
    "# train[''] = (((np.log2(((df._ - np.mean(df._))/np.std(df._))**2))))\n",
    "\n",
    "# Aplicar una transformación de raíz cuadrada\n",
    "# df[''] = np.sqrt(df[''])\n",
    "\n",
    "\n",
    "# Aplicar la transformación de Box-Cox\n",
    "# df[''], _ = stats.boxcox(df[''])\n"
   ]
  },
  {
   "cell_type": "markdown",
   "id": "ec949790",
   "metadata": {},
   "source": [
    "La transformación logarítmica no arroja buenos resultados, probemos con dos transformaciones más complejas : `PowerTransformer` y `QuantileTransformer`"
   ]
  },
  {
   "cell_type": "code",
   "execution_count": 21,
   "id": "3028dd40",
   "metadata": {},
   "outputs": [],
   "source": [
    "# test_transformers([columns])\n",
    "\n",
    "#qt = QuantileTransformer(n_quantiles=5000, output_distribution='normal')\n",
    "#array = np.array(df['']).reshape(-1, 1)\n",
    "#x = qt.fit_transform(array)\n",
    "\n",
    "#df['']= x"
   ]
  },
  {
   "cell_type": "markdown",
   "id": "8ea9c1b7",
   "metadata": {},
   "source": [
    "Podemos ver que NO|se redujo la asimetría por la derecha. "
   ]
  },
  {
   "cell_type": "markdown",
   "id": "e0f4a687",
   "metadata": {},
   "source": [
    "# Datos átipicos"
   ]
  },
  {
   "cell_type": "markdown",
   "id": "adb46b20",
   "metadata": {},
   "source": [
    "Ahora grafiquemos la variable X segmentada de acuerdo a sus diferentes clases para comprobar que no existe presencia de valores átipicos"
   ]
  },
  {
   "cell_type": "code",
   "execution_count": 22,
   "id": "f0d6a456",
   "metadata": {},
   "outputs": [],
   "source": [
    "# matplotlib.rcParams['figure.figsize'] = (20.0, 10.0)\n",
    "# fig,ax = plt.subplots(nrows = 1, ncols = 2)\n",
    "# sns.boxplot(x = '', y = '',data = train,ax = ax[0])\n",
    "# g = sns.FacetGrid(train,col='')\n",
    "# g.map(sns.distplot,\"\")\n",
    "# sns.distplot(train[''],ax = ax[1])"
   ]
  },
  {
   "cell_type": "markdown",
   "id": "7c5a5a49",
   "metadata": {},
   "source": [
    "El diagrama de bigotes muestras la posible existencia de datos atípicos, lo que indica que aún estan sesgados los datos."
   ]
  },
  {
   "cell_type": "markdown",
   "id": "3634c429",
   "metadata": {},
   "source": [
    " Las gráficas de distribución de densidad muestra que las distribuciones tiene colas largas con la derecha y por la izquierda, aun que se debe mensionar que la asimetría se ha reducido."
   ]
  },
  {
   "cell_type": "code",
   "execution_count": null,
   "id": "7e26c83b",
   "metadata": {},
   "outputs": [],
   "source": []
  },
  {
   "cell_type": "code",
   "execution_count": 23,
   "id": "3dfd5669",
   "metadata": {},
   "outputs": [],
   "source": [
    "# definir el límites de forna visual\n",
    "\n",
    "# upper_bound = -7\n",
    "# lower_bound = 2\n",
    "# idxs = train.loc[(train.volume>upper_bound) & (train.volume<lower_bound)].index\n",
    "\n",
    "# mx = max(df.iloc[idxs]._)\n",
    "# mn = min(df.iloc[idxs]._)\n",
    "# df._ = df._.apply(anomaly_delete)"
   ]
  },
  {
   "cell_type": "code",
   "execution_count": 24,
   "id": "6e2e6f30",
   "metadata": {},
   "outputs": [],
   "source": [
    "# upper_boundary, lower_boundary = find_boundaries_sigma(df, 'variable',num_sigma=2)\n",
    "# upper_boundary, lower_boundary = find_boundaries_quuantil(df, 'variable', distance=1.5)\n",
    "# df= handle_outliers(df, variable, distance=1.5, num_sigma = 3, flag_quantil = True)"
   ]
  },
  {
   "cell_type": "code",
   "execution_count": 25,
   "id": "3fc0b0c4",
   "metadata": {},
   "outputs": [],
   "source": [
    "# gráficar nuevamente"
   ]
  },
  {
   "cell_type": "markdown",
   "id": "feee5e06",
   "metadata": {},
   "source": [
    "# Datos cicliclos\n"
   ]
  },
  {
   "cell_type": "code",
   "execution_count": 26,
   "id": "5363076a",
   "metadata": {},
   "outputs": [],
   "source": [
    "# agregar dos variable más a los datos : mes y dia\n",
    "# df['month'] = df.Date.dt.month\n",
    "# df['day'] = df.Date.dt.day"
   ]
  },
  {
   "cell_type": "code",
   "execution_count": 27,
   "id": "0fd654b0",
   "metadata": {},
   "outputs": [],
   "source": [
    "\n",
    "# df = encode(df, 'month', 12)\n",
    "# df = encode(df, 'day', 31)\n"
   ]
  },
  {
   "cell_type": "code",
   "execution_count": 28,
   "id": "91e08ad7",
   "metadata": {},
   "outputs": [],
   "source": [
    "# ax = df.plot.scatter('mes_sin', 'mes_cos').set_aspect('equal')"
   ]
  },
  {
   "cell_type": "markdown",
   "id": "2b7629bc",
   "metadata": {},
   "source": [
    "# Valores Ausentes"
   ]
  },
  {
   "cell_type": "code",
   "execution_count": 29,
   "id": "f009faf6",
   "metadata": {},
   "outputs": [],
   "source": [
    "#df.fillna(df.mode())\n",
    "# df.fillna(df.median())\n",
    "\n",
    "# valor no nulo previo o el siguiente    \n",
    "# df.fillna(method='pad')\n",
    "# df.fillna(method='bfill')\n",
    "\n",
    "# methods = ['linear', 'quadratic', 'cubic']\n",
    "\n",
    "# df = pd.DataFrame({m: df[''].interpolate(method=m) for m in methods})"
   ]
  },
  {
   "cell_type": "markdown",
   "id": "4e99cd56",
   "metadata": {},
   "source": [
    "# Desbalanceo"
   ]
  },
  {
   "cell_type": "code",
   "execution_count": 30,
   "id": "20804c7c",
   "metadata": {},
   "outputs": [],
   "source": [
    "# https://imbalanced-learn.org/stable/auto_examples/api/plot_sampling_strategy_usage.html#sphx-glr-auto-examples-api-plot-sampling-strategy-usage-py\n",
    "# SMOTE (Synthetic Minority Over-sampling Technique)"
   ]
  },
  {
   "cell_type": "markdown",
   "id": "171e6967",
   "metadata": {},
   "source": [
    "# Convinación de Variables"
   ]
  },
  {
   "cell_type": "code",
   "execution_count": 31,
   "id": "5122b71a",
   "metadata": {},
   "outputs": [],
   "source": [
    "# https://feature-engine.trainindata.com/en/latest/index.html\n",
    "# https://featuretools.alteryx.com/en/stable/getting_started/afe.html#Creating-%22Deep-Features%22\n",
    "# https://scikit-learn.org/stable/modules/generated/sklearn.preprocessing.PolynomialFeatures.html"
   ]
  },
  {
   "cell_type": "markdown",
   "id": "c9adc8b5",
   "metadata": {},
   "source": [
    "# Categóricos"
   ]
  },
  {
   "cell_type": "markdown",
   "id": "c17c8afd",
   "metadata": {},
   "source": [
    "### Convertir las variables a tipo `category`"
   ]
  },
  {
   "cell_type": "code",
   "execution_count": 32,
   "id": "83d63d49",
   "metadata": {},
   "outputs": [],
   "source": [
    "# for i in range(len(variables_categoricas)):\n",
    "#    df[variables_categoricas[i]]=df[variables_categoricas[i]].astype('category')"
   ]
  },
  {
   "cell_type": "markdown",
   "id": "22f8d183",
   "metadata": {},
   "source": [
    "### Convertir las variables a tipo `ordinal`"
   ]
  },
  {
   "cell_type": "code",
   "execution_count": 33,
   "id": "b19a2b8e",
   "metadata": {},
   "outputs": [],
   "source": [
    "# for i in range(len(variables_categoricas)):\n",
    "#    df[variables_categoricas[i]]=df[variables_categoricas[i]].astype('category').cat.codes.values"
   ]
  },
  {
   "cell_type": "markdown",
   "id": "8b92d878",
   "metadata": {},
   "source": [
    "### Convertir las variables a tipo `etiqueta``"
   ]
  },
  {
   "cell_type": "code",
   "execution_count": 34,
   "id": "7eee3c0b",
   "metadata": {},
   "outputs": [],
   "source": [
    "#le2 = preprocessing.LabelEncoder()\n",
    "\n",
    "#for i in range(len(cat_col)):\n",
    "    #df[cat_col[i]]=le2.fit_transform(df[cat_col[i]])"
   ]
  },
  {
   "cell_type": "markdown",
   "id": "820afc7b",
   "metadata": {},
   "source": [
    "### Convertir las variables a tipo `onehot`"
   ]
  },
  {
   "cell_type": "code",
   "execution_count": 35,
   "id": "0ed0464e-e90e-4f8d-8e95-9212ce74816f",
   "metadata": {},
   "outputs": [],
   "source": [
    "df_min_max['Gender'] = df['Gender']"
   ]
  },
  {
   "cell_type": "code",
   "execution_count": 36,
   "id": "7a542a6a",
   "metadata": {},
   "outputs": [],
   "source": [
    "df_min_max = get_dummies(df_min_max, columns=['Gender'])"
   ]
  },
  {
   "cell_type": "markdown",
   "id": "562b7385-2a99-477a-accb-24116da9c463",
   "metadata": {},
   "source": [
    "### Remover `Gender_Male` del dataset "
   ]
  },
  {
   "cell_type": "code",
   "execution_count": 37,
   "id": "2bbb1bc0-0eac-4c33-9d6d-ad47e625926d",
   "metadata": {},
   "outputs": [],
   "source": [
    "del df_min_max['Gender_Male']"
   ]
  },
  {
   "cell_type": "code",
   "execution_count": 38,
   "id": "61b7ccaa-8bb4-4866-82e6-b086bfec6ca1",
   "metadata": {},
   "outputs": [],
   "source": [
    "columns = ['Age', 'Income', 'Score','Gender_Male']"
   ]
  },
  {
   "cell_type": "code",
   "execution_count": 39,
   "id": "fa95ffb4-10d8-4d40-97e9-87194038c283",
   "metadata": {},
   "outputs": [],
   "source": [
    "df_min_max.columns = columns"
   ]
  },
  {
   "cell_type": "code",
   "execution_count": 40,
   "id": "3c87ddcd-0014-478a-a752-efb2c9a14208",
   "metadata": {},
   "outputs": [
    {
     "data": {
      "text/html": [
       "<div>\n",
       "<style scoped>\n",
       "    .dataframe tbody tr th:only-of-type {\n",
       "        vertical-align: middle;\n",
       "    }\n",
       "\n",
       "    .dataframe tbody tr th {\n",
       "        vertical-align: top;\n",
       "    }\n",
       "\n",
       "    .dataframe thead th {\n",
       "        text-align: right;\n",
       "    }\n",
       "</style>\n",
       "<table border=\"1\" class=\"dataframe\">\n",
       "  <thead>\n",
       "    <tr style=\"text-align: right;\">\n",
       "      <th></th>\n",
       "      <th>Age</th>\n",
       "      <th>Income</th>\n",
       "      <th>Score</th>\n",
       "      <th>Gender_Male</th>\n",
       "    </tr>\n",
       "  </thead>\n",
       "  <tbody>\n",
       "    <tr>\n",
       "      <th>0</th>\n",
       "      <td>0.019231</td>\n",
       "      <td>0.000000</td>\n",
       "      <td>0.387755</td>\n",
       "      <td>False</td>\n",
       "    </tr>\n",
       "    <tr>\n",
       "      <th>1</th>\n",
       "      <td>0.057692</td>\n",
       "      <td>0.000000</td>\n",
       "      <td>0.816327</td>\n",
       "      <td>False</td>\n",
       "    </tr>\n",
       "    <tr>\n",
       "      <th>2</th>\n",
       "      <td>0.038462</td>\n",
       "      <td>0.008197</td>\n",
       "      <td>0.051020</td>\n",
       "      <td>True</td>\n",
       "    </tr>\n",
       "    <tr>\n",
       "      <th>3</th>\n",
       "      <td>0.096154</td>\n",
       "      <td>0.008197</td>\n",
       "      <td>0.775510</td>\n",
       "      <td>True</td>\n",
       "    </tr>\n",
       "    <tr>\n",
       "      <th>4</th>\n",
       "      <td>0.250000</td>\n",
       "      <td>0.016393</td>\n",
       "      <td>0.397959</td>\n",
       "      <td>True</td>\n",
       "    </tr>\n",
       "    <tr>\n",
       "      <th>...</th>\n",
       "      <td>...</td>\n",
       "      <td>...</td>\n",
       "      <td>...</td>\n",
       "      <td>...</td>\n",
       "    </tr>\n",
       "    <tr>\n",
       "      <th>195</th>\n",
       "      <td>0.326923</td>\n",
       "      <td>0.860656</td>\n",
       "      <td>0.795918</td>\n",
       "      <td>True</td>\n",
       "    </tr>\n",
       "    <tr>\n",
       "      <th>196</th>\n",
       "      <td>0.519231</td>\n",
       "      <td>0.909836</td>\n",
       "      <td>0.275510</td>\n",
       "      <td>True</td>\n",
       "    </tr>\n",
       "    <tr>\n",
       "      <th>197</th>\n",
       "      <td>0.269231</td>\n",
       "      <td>0.909836</td>\n",
       "      <td>0.744898</td>\n",
       "      <td>False</td>\n",
       "    </tr>\n",
       "    <tr>\n",
       "      <th>198</th>\n",
       "      <td>0.269231</td>\n",
       "      <td>1.000000</td>\n",
       "      <td>0.173469</td>\n",
       "      <td>False</td>\n",
       "    </tr>\n",
       "    <tr>\n",
       "      <th>199</th>\n",
       "      <td>0.230769</td>\n",
       "      <td>1.000000</td>\n",
       "      <td>0.836735</td>\n",
       "      <td>False</td>\n",
       "    </tr>\n",
       "  </tbody>\n",
       "</table>\n",
       "<p>200 rows × 4 columns</p>\n",
       "</div>"
      ],
      "text/plain": [
       "          Age    Income     Score  Gender_Male\n",
       "0    0.019231  0.000000  0.387755        False\n",
       "1    0.057692  0.000000  0.816327        False\n",
       "2    0.038462  0.008197  0.051020         True\n",
       "3    0.096154  0.008197  0.775510         True\n",
       "4    0.250000  0.016393  0.397959         True\n",
       "..        ...       ...       ...          ...\n",
       "195  0.326923  0.860656  0.795918         True\n",
       "196  0.519231  0.909836  0.275510         True\n",
       "197  0.269231  0.909836  0.744898        False\n",
       "198  0.269231  1.000000  0.173469        False\n",
       "199  0.230769  1.000000  0.836735        False\n",
       "\n",
       "[200 rows x 4 columns]"
      ]
     },
     "execution_count": 40,
     "metadata": {},
     "output_type": "execute_result"
    }
   ],
   "source": [
    "df_min_max"
   ]
  },
  {
   "cell_type": "markdown",
   "id": "147f5820",
   "metadata": {},
   "source": [
    "# Save file"
   ]
  },
  {
   "cell_type": "code",
   "execution_count": 41,
   "id": "fa10bdf5",
   "metadata": {},
   "outputs": [],
   "source": [
    "# Store data \n",
    "with open('data/interim/transform.pickle', 'wb') as handle:\n",
    "    pickle.dump(df_min_max, handle, protocol=pickle.HIGHEST_PROTOCOL)"
   ]
  },
  {
   "cell_type": "code",
   "execution_count": null,
   "id": "94c017d1",
   "metadata": {},
   "outputs": [],
   "source": []
  }
 ],
 "metadata": {
  "kernelspec": {
   "display_name": "Python 3 (ipykernel)",
   "language": "python",
   "name": "python3"
  },
  "language_info": {
   "codemirror_mode": {
    "name": "ipython",
    "version": 3
   },
   "file_extension": ".py",
   "mimetype": "text/x-python",
   "name": "python",
   "nbconvert_exporter": "python",
   "pygments_lexer": "ipython3",
   "version": "3.10.12"
  }
 },
 "nbformat": 4,
 "nbformat_minor": 5
}
