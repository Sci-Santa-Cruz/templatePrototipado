{
 "cells": [
  {
   "cell_type": "markdown",
   "id": "48f9c155",
   "metadata": {},
   "source": [
    "<div class=\"jumbotron\">\n",
    "  <h1><i class=\"fa fa-bar-chart\" aria-hidden=\"true\"></i>Inegeniría de características y trasnformaciones</h1>\n",
    "  <p></p>\n",
    "</div>\n"
   ]
  },
  {
   "cell_type": "code",
   "execution_count": null,
   "id": "f84661e0-4c8c-4c9f-a905-d7ce89e2b89d",
   "metadata": {},
   "outputs": [],
   "source": [
    "# ! pip install mlxtend"
   ]
  },
  {
   "cell_type": "code",
   "execution_count": null,
   "id": "41049ade",
   "metadata": {},
   "outputs": [],
   "source": [
    "from os import chdir\n",
    "\n",
    "# retroceder al directorio principal\n",
    "chdir(\"..\")"
   ]
  },
  {
   "cell_type": "code",
   "execution_count": null,
   "id": "c8db8c92",
   "metadata": {},
   "outputs": [],
   "source": [
    "import pickle\n",
    "import matplotlib.pyplot as plt\n",
    "from scipy.stats import zscore\n",
    "from sklearn import preprocessing\n",
    "from sklearn.preprocessing import OneHotEncoder\n",
    "from scipy import stats\n",
    "from utils.custom import anomaly_delete\n",
    "from utils.custom import handle_outliers\n",
    "from utils.custom import find_boundaries_quuantil\n",
    "from utils.custom import find_boundaries_sigma\n",
    "from pandas import DataFrame\n",
    "from seaborn import boxplot\n",
    "from pandas import get_dummies\n",
    "from sklearn.preprocessing import StandardScaler\n",
    "from sklearn.preprocessing import MinMaxScaler\n",
    "from sklearn.preprocessing import KBinsDiscretizer\n",
    "\n"
   ]
  },
  {
   "cell_type": "code",
   "execution_count": null,
   "id": "750c78f6",
   "metadata": {},
   "outputs": [],
   "source": [
    "# Load data (deserialize)\n",
    "with open('data/interim/processing.pickle', 'rb') as handle:\n",
    "    df = pickle.load(handle)"
   ]
  },
  {
   "cell_type": "code",
   "execution_count": null,
   "id": "b7f7b491",
   "metadata": {},
   "outputs": [],
   "source": [
    "variables_numericas = df.select_dtypes(include=['int64', 'float64']).columns\n",
    "variables_categoricas = df.select_dtypes(include=['category']).columns\n",
    "# etiqueta = ''"
   ]
  },
  {
   "cell_type": "code",
   "execution_count": null,
   "id": "c214ffa6-e9e6-4c3c-8bc0-e5acbc0c9511",
   "metadata": {},
   "outputs": [],
   "source": [
    "df.dtypes"
   ]
  },
  {
   "cell_type": "markdown",
   "id": "8e836f2e",
   "metadata": {},
   "source": [
    "# Normalización y estadarización de variables"
   ]
  },
  {
   "cell_type": "markdown",
   "id": "147b2c8d-0be0-4453-b935-21a81bec1cee",
   "metadata": {},
   "source": [
    "<div class=\"alert alert-warning\" role=\"alert\">\n",
    "\n",
    "La elección de utilizar la normalización Min-Max o la estandarización Z-score depende del problema y los datos en cuestión. Aquí hay algunas consideraciones para decidir cuándo usar cada uno de estos métodos:\n",
    "\n",
    "**Min-Max Scaling (Normalización Min-Max):**\n",
    "\n",
    "1. **Cuando se necesita restringir los datos a un rango específico:** La normalización Min-Max escalará tus datos a un rango específico, generalmente [0, 1], pero puedes especificar otro rango si es necesario. Esto es útil cuando deseas que tus datos estén en un rango particular.\n",
    "\n",
    "2. **Cuando se desea preservar la relación entre los datos originales:** Min-Max Scaling conserva la relación de orden entre los datos originales. Si esta relación es importante para tu aplicación, Min-Max Scaling puede ser más apropiado.\n",
    "\n",
    "3. **Cuando se trabaja con algoritmos sensibles a la escala:** Algunos algoritmos de aprendizaje automático, como las máquinas de soporte vectorial (SVM) y los algoritmos basados en gradiente, pueden beneficiarse de la normalización Min-Max para que converjan más rápido y funcionen mejor.\n",
    "\n",
    "**Z-score Standardization (Estandarización Z-score):**\n",
    "\n",
    "1. **Cuando se busca una distribución normal o gaussianización:** La estandarización Z-score transforma los datos para que tengan una media de 0 y una desviación estándar de 1, lo que puede ayudar a que los datos se asemejen más a una distribución normal. Esto puede ser útil en estadísticas inferenciales.\n",
    "\n",
    "2. **Cuando se quieren detectar valores atípicos:** Los valores atípicos (outliers) en los datos pueden ser más fáciles de detectar y manejar después de aplicar la estandarización Z-score. Los valores que están muy por encima o por debajo de ciertos umbrales Z pueden ser considerados como valores atípicos.\n",
    "\n",
    "3. **Cuando se trabaja con algoritmos que asumen datos estandarizados:** Algunos algoritmos de aprendizaje automático, como el análisis de componentes principales (PCA) o la regresión logística, asumen que los datos están estandarizados. En estos casos, la estandarización Z-score es más apropiada.\n",
    "\n",
    "La elección entre Min-Max Scaling y Z-score Standardization depende de los requisitos específicos de tu problema y de la naturaleza de tus datos. Ambos métodos tienen sus propias ventajas y desventajas, y debes seleccionar el que mejor se adapte a tus necesidades y los supuestos de tus algoritmos de análisis o aprendizaje automático.\n",
    "\n",
    "\n",
    "<div class=\"alert alert-warning\" role=\"alert\">ESTO ES MUY IMPORTANTE</div>"
   ]
  },
  {
   "cell_type": "markdown",
   "id": "4673dae7-79dc-457a-ad48-8a77a25c5c88",
   "metadata": {},
   "source": [
    "### MinMaxScaler"
   ]
  },
  {
   "cell_type": "code",
   "execution_count": null,
   "id": "101341f4",
   "metadata": {},
   "outputs": [],
   "source": [
    "x = df[variables_numericas].values #returns a numpy array\n",
    "min_max_scaler = MinMaxScaler()\n",
    "x_scaled = min_max_scaler.fit_transform(x)\n",
    "df_min_max = DataFrame(x_scaled)"
   ]
  },
  {
   "cell_type": "code",
   "execution_count": null,
   "id": "c9636dd4-8386-4fa7-bd17-ca41bbed658a",
   "metadata": {},
   "outputs": [],
   "source": [
    "ax = boxplot( data=df_min_max)"
   ]
  },
  {
   "cell_type": "markdown",
   "id": "19125992-2df0-4298-8c5c-2b65167b9c80",
   "metadata": {},
   "source": [
    "### Z-score"
   ]
  },
  {
   "cell_type": "code",
   "execution_count": null,
   "id": "5573cb52",
   "metadata": {},
   "outputs": [],
   "source": [
    "z_score_scaler = StandardScaler()\n",
    "x_scaled = z_score_scaler.fit_transform(x)\n",
    "df_z_score = DataFrame(x_scaled)"
   ]
  },
  {
   "cell_type": "code",
   "execution_count": null,
   "id": "087710fd-601c-410d-843e-4afd6e3e43cd",
   "metadata": {},
   "outputs": [],
   "source": [
    "ax = boxplot( data=df_z_score)"
   ]
  },
  {
   "cell_type": "markdown",
   "id": "24d204a4",
   "metadata": {},
   "source": [
    "# Discretizar"
   ]
  },
  {
   "cell_type": "markdown",
   "id": "af9777ba-a44a-48ed-81a9-33c014203aed",
   "metadata": {},
   "source": [
    "### Contenedores del mismo tamaño "
   ]
  },
  {
   "cell_type": "code",
   "execution_count": null,
   "id": "51c64b4d-7123-4885-8475-5be698774685",
   "metadata": {},
   "outputs": [],
   "source": [
    "# Utiliza la función pd.cut() para categorizar las edades en tres grupos\n",
    "# Definir los límites de los intervalos y las etiquetas de las categorías\n",
    "# bins = 3\n",
    "# labels = [\"baja\", \"media\", \"alta\"]\n",
    "\n",
    "# resultado = cut(df[column], \n",
    "#                   bins=bins,             # Divide en 3 grupos\n",
    "#                   labels=labels,  # Etiquetas para los grupos\n",
    "#                   include_lowest=True,  # Incluye el límite inferior en la categoría más baja\n",
    "#                   retbins=True)        # Devuelve los intervalos de categorización"
   ]
  },
  {
   "cell_type": "markdown",
   "id": "104793f8-db88-4568-a91a-ec26f3573122",
   "metadata": {},
   "source": [
    "### Contenedores de diferente tamaño "
   ]
  },
  {
   "cell_type": "code",
   "execution_count": null,
   "id": "045cd87b-59c9-4619-be06-fe581c70d9c6",
   "metadata": {},
   "outputs": [],
   "source": [
    "# resultado = cut(df[column], \n",
    "#                   bins=[0, 11, 17, 59, inf], \n",
    "#                   labels=[\"infante\", \"joven\", \"adulto\", \"mayor\"],\n",
    "#                   include_lowest=True,\n",
    "#                   retbins=True)"
   ]
  },
  {
   "cell_type": "markdown",
   "id": "0ac246b5-a076-42b3-b386-2e76c75901ef",
   "metadata": {},
   "source": [
    "### Discretización basada en intervalos de igual frecuencia"
   ]
  },
  {
   "cell_type": "code",
   "execution_count": null,
   "id": "421099ca-4ead-44ea-acf4-54cf8dd5a831",
   "metadata": {},
   "outputs": [],
   "source": [
    "# df['column'] = qcut(df['column'], q=3)"
   ]
  },
  {
   "cell_type": "markdown",
   "id": "2a24d406-ad25-4ccd-8b62-0f187c424d94",
   "metadata": {},
   "source": [
    "### Discretizar usando k-means"
   ]
  },
  {
   "cell_type": "code",
   "execution_count": null,
   "id": "ed1dfd6d",
   "metadata": {},
   "outputs": [],
   "source": [
    "# n = 5\n",
    "# var_dis = KBinsDiscretizer(n_bins=n, encode='ordinal',strategy = \"kmeans\").fit_transform(df[['var']])"
   ]
  },
  {
   "cell_type": "markdown",
   "id": "7fd6f76e-bd7b-495a-9dbd-8f911ab6c2a0",
   "metadata": {},
   "source": [
    "<div class=\"alert alert-warning\" role=\"alert\">\n",
    "\n",
    "Elegir la estrategia de discretización adecuada depende de varios factores, incluyendo la naturaleza de tus datos y los objetivos de tu análisis. Aquí tienes una estrategia general para decidir qué tipo de discretización usar:\n",
    "\n",
    "1. **Comprende tus Datos:**\n",
    "   - Comienza por comprender la distribución de tus datos. ¿Son tus datos uniformemente distribuidos, sesgados o siguen una distribución normal?\n",
    "   - Observa la naturaleza de la variable que deseas discretizar. ¿Es una variable continua que se puede dividir en rangos significativos?\n",
    "   \n",
    "2. **Objetivos del Análisis:**\n",
    "   - Considera tus objetivos de análisis. ¿Qué intentas lograr con la discretización?\n",
    "   - Si deseas simplificar tus datos y reducir la complejidad, la estrategia \"uniforme\" podría ser una buena opción.\n",
    "   - Si deseas preservar información sobre la distribución original de tus datos, \"quantile\" podría ser más apropiada.\n",
    "\n",
    "3. **Tamaño del Conjunto de Datos:**\n",
    "   - El tamaño de tu conjunto de datos también puede influir en tu elección. Si tienes un conjunto de datos pequeño, es posible que desees mantener la información original tanto como sea posible, por lo que \"quantile\" podría ser preferible. Si tienes un conjunto de datos grande, \"uniforme\" podría ser más práctico.\n",
    "\n",
    "4. **Impacto en el Modelo de Aprendizaje Automático:**\n",
    "   - Piensa en cómo la discretización afectará a tus modelos de aprendizaje automático. Algunos modelos, como los árboles de decisión, pueden manejar variables discretas directamente, mientras que otros pueden requerir que las variables sean continuas.\n",
    "</div>"
   ]
  },
  {
   "cell_type": "markdown",
   "id": "6fc9e2c3",
   "metadata": {},
   "source": [
    "### Obtener la gráfica de bigotes y la forma de la distribución de la variable"
   ]
  },
  {
   "cell_type": "markdown",
   "id": "67e4f7ed-2040-410a-bd91-cd401d395856",
   "metadata": {},
   "source": [
    "visualizar distribución y semetría"
   ]
  },
  {
   "cell_type": "code",
   "execution_count": null,
   "id": "9b0bc2b7",
   "metadata": {},
   "outputs": [],
   "source": [
    "# fig,ax = plt.subplots(nrows = 1, ncols = 2)\n",
    "# df._.plot(kind = 'box',figsize = [12.0,5.0],title=\"\",ax = ax[0])\n",
    "# df._.plot(kind = 'density',figsize = [12.0,5.0],title=\"\",ax = ax[1])"
   ]
  },
  {
   "cell_type": "code",
   "execution_count": null,
   "id": "3c07e656",
   "metadata": {},
   "outputs": [],
   "source": [
    "# - La variable __name_var__ está sesgado a la derecha, por lo cual debemos transformar la variable para reducir el sesgo.\n",
    "# - Si las colas de la distribución son muy larga es necesario crear un piso y un techo para los valores extremos"
   ]
  },
  {
   "cell_type": "markdown",
   "id": "62731e5e",
   "metadata": {},
   "source": [
    "#  Sesgo de simetría y normalidad"
   ]
  },
  {
   "cell_type": "markdown",
   "id": "f66b957b-fa57-4f44-86e7-16c720b1f1da",
   "metadata": {},
   "source": [
    "Aplicaresmos una trasformación para normalizar la variable y obervar su distribución después de la trasformación"
   ]
  },
  {
   "cell_type": "markdown",
   "id": "28dcc961-a523-4442-9cf8-ea651144cb12",
   "metadata": {},
   "source": [
    "### Aplicar una transformación logaritmica"
   ]
  },
  {
   "cell_type": "code",
   "execution_count": null,
   "id": "5dc6b735",
   "metadata": {},
   "outputs": [],
   "source": [
    "# train[''] = (((np.log2(((df._ - np.mean(df._))/np.std(df._))**2))))"
   ]
  },
  {
   "cell_type": "markdown",
   "id": "961dfcf2-66fe-4675-a6cc-6d6bfbb37692",
   "metadata": {},
   "source": [
    "### Aplicar una transformación de raíz cuadrada"
   ]
  },
  {
   "cell_type": "code",
   "execution_count": null,
   "id": "19851c92-3357-4a10-be70-8ac470bf771d",
   "metadata": {},
   "outputs": [],
   "source": [
    "# df[''] = np.sqrt(df[''])"
   ]
  },
  {
   "cell_type": "markdown",
   "id": "41e774fa-d98e-4436-920a-af37e11c10ca",
   "metadata": {},
   "source": [
    "### Aplicar la transformación de Box-Cox"
   ]
  },
  {
   "cell_type": "code",
   "execution_count": null,
   "id": "488b2b29-49fc-4765-9c6d-8e105184983e",
   "metadata": {},
   "outputs": [],
   "source": [
    "# df[''], _ = stats.boxcox(df[''])"
   ]
  },
  {
   "cell_type": "markdown",
   "id": "ec949790",
   "metadata": {},
   "source": [
    "La transformación logarítmica no arroja buenos resultados, probemos con dos transformaciones más complejas : `PowerTransformer` y `QuantileTransformer`"
   ]
  },
  {
   "cell_type": "code",
   "execution_count": null,
   "id": "3028dd40",
   "metadata": {},
   "outputs": [],
   "source": [
    "# test_transformers([columns])\n",
    "\n",
    "#qt = QuantileTransformer(n_quantiles=5000, output_distribution='normal')\n",
    "#array = np.array(df['']).reshape(-1, 1)\n",
    "#x = qt.fit_transform(array)\n",
    "\n",
    "#df['']= x"
   ]
  },
  {
   "cell_type": "markdown",
   "id": "8ea9c1b7",
   "metadata": {},
   "source": [
    "Podemos ver que NO|se redujo la asimetría por la derecha. "
   ]
  },
  {
   "cell_type": "markdown",
   "id": "e0f4a687",
   "metadata": {},
   "source": [
    "# Datos átipicos"
   ]
  },
  {
   "cell_type": "markdown",
   "id": "adb46b20",
   "metadata": {},
   "source": [
    "Ahora grafiquemos la variable X segmentada de acuerdo a sus diferentes clases para comprobar que no existe presencia de valores átipicos"
   ]
  },
  {
   "cell_type": "code",
   "execution_count": null,
   "id": "f0d6a456",
   "metadata": {},
   "outputs": [],
   "source": [
    "# matplotlib.rcParams['figure.figsize'] = (20.0, 10.0)\n",
    "# fig,ax = plt.subplots(nrows = 1, ncols = 2)\n",
    "# sns.boxplot(x = '', y = '',data = train,ax = ax[0])\n",
    "# g = sns.FacetGrid(train,col='')\n",
    "# g.map(sns.distplot,\"\")\n",
    "# sns.distplot(train[''],ax = ax[1])"
   ]
  },
  {
   "cell_type": "markdown",
   "id": "7c5a5a49",
   "metadata": {},
   "source": [
    "El diagrama de bigotes muestras la posible existencia de datos atípicos, lo que indica que aún estan sesgados los datos."
   ]
  },
  {
   "cell_type": "markdown",
   "id": "3634c429",
   "metadata": {},
   "source": [
    " Las gráficas de distribución de densidad muestra que las distribuciones tiene colas largas con la derecha y por la izquierda, aun que se debe mensionar que la asimetría se ha reducido."
   ]
  },
  {
   "cell_type": "markdown",
   "id": "085f87a0-6fc8-4715-afef-86fde83fcb9c",
   "metadata": {},
   "source": [
    "### Definir el límites de forna visual a través de las graficas de vigotes"
   ]
  },
  {
   "cell_type": "code",
   "execution_count": null,
   "id": "9e3961db-5460-4bec-89de-56b7544c3c66",
   "metadata": {},
   "outputs": [],
   "source": [
    "# upper_bound = -7\n",
    "# lower_bound = 2\n",
    "\n",
    "# obtener los indices de los datos que estan fuera del umbral de normalidad\n",
    "# idxs = train.loc[(df.column>upper_bound) & (df.column<lower_bound)].index\n",
    "\n",
    "# obtener los valores máximos y mínimos\n",
    "# mx = max(df.iloc[idxs]._)\n",
    "# mn = min(df.iloc[idxs]._)\n",
    "\n",
    "# aplicar la función de supresión\n",
    "# df._ = df._.apply(anomaly_delete)"
   ]
  },
  {
   "cell_type": "code",
   "execution_count": null,
   "id": "7e26c83b",
   "metadata": {},
   "outputs": [],
   "source": []
  },
  {
   "cell_type": "markdown",
   "id": "f56cada3-3354-4ec7-955a-0e9a09606c55",
   "metadata": {},
   "source": [
    "### Utilizar rango inetercuartil o z-score"
   ]
  },
  {
   "cell_type": "code",
   "execution_count": null,
   "id": "6e2e6f30",
   "metadata": {},
   "outputs": [],
   "source": [
    "# std\n",
    "# upper_boundary, lower_boundary = find_boundaries_sigma(df, 'variable',num_sigma=2)\n",
    "\n",
    "# cuartiles\n",
    "# upper_boundary, lower_boundary = find_boundaries_quuantil(df, 'variable', distance=1.5)\n",
    "\n",
    "# df= handle_outliers(df, variable, distance=1.5, num_sigma = 3, flag_quantil = True)"
   ]
  },
  {
   "cell_type": "code",
   "execution_count": null,
   "id": "3fc0b0c4",
   "metadata": {},
   "outputs": [],
   "source": [
    "# gráficar nuevamente"
   ]
  },
  {
   "cell_type": "markdown",
   "id": "feee5e06",
   "metadata": {},
   "source": [
    "# Datos cicliclos\n"
   ]
  },
  {
   "cell_type": "code",
   "execution_count": null,
   "id": "8f59afee-3df6-4e17-9ee5-ad615854bcda",
   "metadata": {},
   "outputs": [],
   "source": []
  },
  {
   "cell_type": "code",
   "execution_count": null,
   "id": "5363076a",
   "metadata": {},
   "outputs": [],
   "source": [
    "# agregar dos variable más a los datos : mes y dia\n",
    "# df['month'] = df.Date.dt.month\n",
    "# df['day'] = df.Date.dt.day"
   ]
  },
  {
   "cell_type": "code",
   "execution_count": null,
   "id": "0fd654b0",
   "metadata": {},
   "outputs": [],
   "source": [
    "# df = encode(df, 'month', 12)\n",
    "# df = encode(df, 'day', 31)"
   ]
  },
  {
   "cell_type": "code",
   "execution_count": null,
   "id": "91e08ad7",
   "metadata": {},
   "outputs": [],
   "source": [
    "# ax = df.plot.scatter('mes_sin', 'mes_cos').set_aspect('equal')"
   ]
  },
  {
   "cell_type": "markdown",
   "id": "2b7629bc",
   "metadata": {},
   "source": [
    "# Valores Ausentes"
   ]
  },
  {
   "cell_type": "markdown",
   "id": "ed64db3a-60d1-4592-87ce-ada3971d4bce",
   "metadata": {},
   "source": [
    "### Refill con valores de tendecias estadísticas"
   ]
  },
  {
   "cell_type": "code",
   "execution_count": null,
   "id": "2ec1e39a-8da8-433c-ba92-0d9194bc0d31",
   "metadata": {},
   "outputs": [],
   "source": [
    "# df.fillna(df.mode())\n",
    "# df.fillna(df.median())"
   ]
  },
  {
   "cell_type": "markdown",
   "id": "2191e231-b3bc-47b9-aa10-89c3b42d9cdb",
   "metadata": {},
   "source": [
    "### Refill con valor no nulo previo o valor siguiente no nulo  "
   ]
  },
  {
   "cell_type": "code",
   "execution_count": null,
   "id": "f009faf6",
   "metadata": {},
   "outputs": [],
   "source": [
    "# df.fillna(method='pad')\n",
    "# df.fillna(method='bfill')"
   ]
  },
  {
   "cell_type": "markdown",
   "id": "e8762203-c540-4a3b-aeb6-b782e94b4f58",
   "metadata": {},
   "source": [
    "### Refill utilizando interpolación"
   ]
  },
  {
   "cell_type": "code",
   "execution_count": null,
   "id": "d1ff61e5-d5bc-49b5-afe6-91f132c439b9",
   "metadata": {},
   "outputs": [],
   "source": [
    "# methods = ['linear', 'quadratic', 'cubic']\n",
    "\n",
    "# df = pd.DataFrame({m: df[''].interpolate(method=m) for m in methods})"
   ]
  },
  {
   "cell_type": "markdown",
   "id": "4e99cd56",
   "metadata": {},
   "source": [
    "# Desbalanceo"
   ]
  },
  {
   "cell_type": "code",
   "execution_count": null,
   "id": "20804c7c",
   "metadata": {},
   "outputs": [],
   "source": [
    "# https://imbalanced-learn.org/stable/auto_examples/api/plot_sampling_strategy_usage.html#sphx-glr-auto-examples-api-plot-sampling-strategy-usage-py\n",
    "# SMOTE (Synthetic Minority Over-sampling Technique)"
   ]
  },
  {
   "cell_type": "markdown",
   "id": "171e6967",
   "metadata": {},
   "source": [
    "# Convinación de Variables"
   ]
  },
  {
   "cell_type": "code",
   "execution_count": null,
   "id": "5122b71a",
   "metadata": {},
   "outputs": [],
   "source": [
    "# https://feature-engine.trainindata.com/en/latest/index.html\n",
    "# https://featuretools.alteryx.com/en/stable/getting_started/afe.html#Creating-%22Deep-Features%22\n",
    "# https://scikit-learn.org/stable/modules/generated/sklearn.preprocessing.PolynomialFeatures.html"
   ]
  },
  {
   "cell_type": "markdown",
   "id": "c9adc8b5",
   "metadata": {},
   "source": [
    "# Categóricos"
   ]
  },
  {
   "cell_type": "markdown",
   "id": "c17c8afd",
   "metadata": {},
   "source": [
    "### Convertir las variables a tipo `category`"
   ]
  },
  {
   "cell_type": "code",
   "execution_count": null,
   "id": "83d63d49",
   "metadata": {},
   "outputs": [],
   "source": [
    "# for i in range(len(variables_categoricas)):\n",
    "#    df[variables_categoricas[i]]=df[variables_categoricas[i]].astype('category')"
   ]
  },
  {
   "cell_type": "markdown",
   "id": "22f8d183",
   "metadata": {},
   "source": [
    "### Convertir las variables a tipo `ordinal`"
   ]
  },
  {
   "cell_type": "code",
   "execution_count": null,
   "id": "b19a2b8e",
   "metadata": {},
   "outputs": [],
   "source": [
    "# for i in range(len(variables_categoricas)):\n",
    "#    df[variables_categoricas[i]]=df[variables_categoricas[i]].astype('category').cat.codes.values"
   ]
  },
  {
   "cell_type": "markdown",
   "id": "8b92d878",
   "metadata": {},
   "source": [
    "### Convertir las variables a tipo `etiqueta``"
   ]
  },
  {
   "cell_type": "code",
   "execution_count": null,
   "id": "7eee3c0b",
   "metadata": {},
   "outputs": [],
   "source": [
    "#le2 = preprocessing.LabelEncoder()\n",
    "\n",
    "#for i in range(len(cat_col)):\n",
    "    #df[cat_col[i]]=le2.fit_transform(df[cat_col[i]])"
   ]
  },
  {
   "cell_type": "markdown",
   "id": "820afc7b",
   "metadata": {},
   "source": [
    "### Convertir las variables a tipo `onehot`"
   ]
  },
  {
   "cell_type": "code",
   "execution_count": null,
   "id": "0ed0464e-e90e-4f8d-8e95-9212ce74816f",
   "metadata": {},
   "outputs": [],
   "source": [
    "df_min_max['column'] = df['column']"
   ]
  },
  {
   "cell_type": "code",
   "execution_count": null,
   "id": "7a542a6a",
   "metadata": {},
   "outputs": [],
   "source": [
    "df_min_max = get_dummies(df_min_max, columns=['column'])"
   ]
  },
  {
   "cell_type": "markdown",
   "id": "562b7385-2a99-477a-accb-24116da9c463",
   "metadata": {},
   "source": [
    "### Remover `column` del dataset "
   ]
  },
  {
   "cell_type": "code",
   "execution_count": null,
   "id": "2bbb1bc0-0eac-4c33-9d6d-ad47e625926d",
   "metadata": {},
   "outputs": [],
   "source": [
    "del df_min_max['Gender_Male']"
   ]
  },
  {
   "cell_type": "code",
   "execution_count": null,
   "id": "61b7ccaa-8bb4-4866-82e6-b086bfec6ca1",
   "metadata": {},
   "outputs": [],
   "source": [
    "columns = []"
   ]
  },
  {
   "cell_type": "markdown",
   "id": "147f5820",
   "metadata": {},
   "source": [
    "# Save file"
   ]
  },
  {
   "cell_type": "code",
   "execution_count": null,
   "id": "fa10bdf5",
   "metadata": {},
   "outputs": [],
   "source": [
    "# Store data \n",
    "with open('data/interim/transform.pickle', 'wb') as handle:\n",
    "    pickle.dump(df_min_max, handle, protocol=pickle.HIGHEST_PROTOCOL)"
   ]
  },
  {
   "cell_type": "code",
   "execution_count": null,
   "id": "94c017d1",
   "metadata": {},
   "outputs": [],
   "source": []
  }
 ],
 "metadata": {
  "kernelspec": {
   "display_name": "Python 3 (ipykernel)",
   "language": "python",
   "name": "python3"
  },
  "language_info": {
   "codemirror_mode": {
    "name": "ipython",
    "version": 3
   },
   "file_extension": ".py",
   "mimetype": "text/x-python",
   "name": "python",
   "nbconvert_exporter": "python",
   "pygments_lexer": "ipython3",
   "version": "3.10.13"
  }
 },
 "nbformat": 4,
 "nbformat_minor": 5
}
